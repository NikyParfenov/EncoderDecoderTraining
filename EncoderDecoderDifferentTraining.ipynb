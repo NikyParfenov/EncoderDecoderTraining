{
  "nbformat": 4,
  "nbformat_minor": 0,
  "metadata": {
    "colab": {
      "provenance": [],
      "include_colab_link": true
    },
    "kernelspec": {
      "name": "python3",
      "display_name": "Python 3"
    },
    "language_info": {
      "name": "python"
    },
    "widgets": {
      "application/vnd.jupyter.widget-state+json": {
        "c5d481968a4f4dcabc0ab784a8901fe5": {
          "model_module": "@jupyter-widgets/controls",
          "model_name": "HBoxModel",
          "model_module_version": "1.5.0",
          "state": {
            "_dom_classes": [],
            "_model_module": "@jupyter-widgets/controls",
            "_model_module_version": "1.5.0",
            "_model_name": "HBoxModel",
            "_view_count": null,
            "_view_module": "@jupyter-widgets/controls",
            "_view_module_version": "1.5.0",
            "_view_name": "HBoxView",
            "box_style": "",
            "children": [
              "IPY_MODEL_1bf48e12aaa842628a6485183c77ee1c",
              "IPY_MODEL_87ecbbca0f364431b370c64ff837cb52",
              "IPY_MODEL_1602722c1a324f53b0b32893c19dec24"
            ],
            "layout": "IPY_MODEL_469b81bc15024b19b49f80635a488d43"
          }
        },
        "1bf48e12aaa842628a6485183c77ee1c": {
          "model_module": "@jupyter-widgets/controls",
          "model_name": "HTMLModel",
          "model_module_version": "1.5.0",
          "state": {
            "_dom_classes": [],
            "_model_module": "@jupyter-widgets/controls",
            "_model_module_version": "1.5.0",
            "_model_name": "HTMLModel",
            "_view_count": null,
            "_view_module": "@jupyter-widgets/controls",
            "_view_module_version": "1.5.0",
            "_view_name": "HTMLView",
            "description": "",
            "description_tooltip": null,
            "layout": "IPY_MODEL_2340f5bde16c436b98fb31040ebe8ac3",
            "placeholder": "​",
            "style": "IPY_MODEL_ebcddc2826ef4bf5b86973f968d4309b",
            "value": "Downloading (…)lve/main/config.json: 100%"
          }
        },
        "87ecbbca0f364431b370c64ff837cb52": {
          "model_module": "@jupyter-widgets/controls",
          "model_name": "FloatProgressModel",
          "model_module_version": "1.5.0",
          "state": {
            "_dom_classes": [],
            "_model_module": "@jupyter-widgets/controls",
            "_model_module_version": "1.5.0",
            "_model_name": "FloatProgressModel",
            "_view_count": null,
            "_view_module": "@jupyter-widgets/controls",
            "_view_module_version": "1.5.0",
            "_view_name": "ProgressView",
            "bar_style": "success",
            "description": "",
            "description_tooltip": null,
            "layout": "IPY_MODEL_393918e537b74cc49b90fd1e9c8928e0",
            "max": 1206,
            "min": 0,
            "orientation": "horizontal",
            "style": "IPY_MODEL_8135c65684cc45d692130b2a5e2384f8",
            "value": 1206
          }
        },
        "1602722c1a324f53b0b32893c19dec24": {
          "model_module": "@jupyter-widgets/controls",
          "model_name": "HTMLModel",
          "model_module_version": "1.5.0",
          "state": {
            "_dom_classes": [],
            "_model_module": "@jupyter-widgets/controls",
            "_model_module_version": "1.5.0",
            "_model_name": "HTMLModel",
            "_view_count": null,
            "_view_module": "@jupyter-widgets/controls",
            "_view_module_version": "1.5.0",
            "_view_name": "HTMLView",
            "description": "",
            "description_tooltip": null,
            "layout": "IPY_MODEL_fd7689644ffd4091b8ea814fb360308f",
            "placeholder": "​",
            "style": "IPY_MODEL_a7006bed9ead49ca8f77a20914551733",
            "value": " 1.21k/1.21k [00:00&lt;00:00, 11.3kB/s]"
          }
        },
        "469b81bc15024b19b49f80635a488d43": {
          "model_module": "@jupyter-widgets/base",
          "model_name": "LayoutModel",
          "model_module_version": "1.2.0",
          "state": {
            "_model_module": "@jupyter-widgets/base",
            "_model_module_version": "1.2.0",
            "_model_name": "LayoutModel",
            "_view_count": null,
            "_view_module": "@jupyter-widgets/base",
            "_view_module_version": "1.2.0",
            "_view_name": "LayoutView",
            "align_content": null,
            "align_items": null,
            "align_self": null,
            "border": null,
            "bottom": null,
            "display": null,
            "flex": null,
            "flex_flow": null,
            "grid_area": null,
            "grid_auto_columns": null,
            "grid_auto_flow": null,
            "grid_auto_rows": null,
            "grid_column": null,
            "grid_gap": null,
            "grid_row": null,
            "grid_template_areas": null,
            "grid_template_columns": null,
            "grid_template_rows": null,
            "height": null,
            "justify_content": null,
            "justify_items": null,
            "left": null,
            "margin": null,
            "max_height": null,
            "max_width": null,
            "min_height": null,
            "min_width": null,
            "object_fit": null,
            "object_position": null,
            "order": null,
            "overflow": null,
            "overflow_x": null,
            "overflow_y": null,
            "padding": null,
            "right": null,
            "top": null,
            "visibility": null,
            "width": null
          }
        },
        "2340f5bde16c436b98fb31040ebe8ac3": {
          "model_module": "@jupyter-widgets/base",
          "model_name": "LayoutModel",
          "model_module_version": "1.2.0",
          "state": {
            "_model_module": "@jupyter-widgets/base",
            "_model_module_version": "1.2.0",
            "_model_name": "LayoutModel",
            "_view_count": null,
            "_view_module": "@jupyter-widgets/base",
            "_view_module_version": "1.2.0",
            "_view_name": "LayoutView",
            "align_content": null,
            "align_items": null,
            "align_self": null,
            "border": null,
            "bottom": null,
            "display": null,
            "flex": null,
            "flex_flow": null,
            "grid_area": null,
            "grid_auto_columns": null,
            "grid_auto_flow": null,
            "grid_auto_rows": null,
            "grid_column": null,
            "grid_gap": null,
            "grid_row": null,
            "grid_template_areas": null,
            "grid_template_columns": null,
            "grid_template_rows": null,
            "height": null,
            "justify_content": null,
            "justify_items": null,
            "left": null,
            "margin": null,
            "max_height": null,
            "max_width": null,
            "min_height": null,
            "min_width": null,
            "object_fit": null,
            "object_position": null,
            "order": null,
            "overflow": null,
            "overflow_x": null,
            "overflow_y": null,
            "padding": null,
            "right": null,
            "top": null,
            "visibility": null,
            "width": null
          }
        },
        "ebcddc2826ef4bf5b86973f968d4309b": {
          "model_module": "@jupyter-widgets/controls",
          "model_name": "DescriptionStyleModel",
          "model_module_version": "1.5.0",
          "state": {
            "_model_module": "@jupyter-widgets/controls",
            "_model_module_version": "1.5.0",
            "_model_name": "DescriptionStyleModel",
            "_view_count": null,
            "_view_module": "@jupyter-widgets/base",
            "_view_module_version": "1.2.0",
            "_view_name": "StyleView",
            "description_width": ""
          }
        },
        "393918e537b74cc49b90fd1e9c8928e0": {
          "model_module": "@jupyter-widgets/base",
          "model_name": "LayoutModel",
          "model_module_version": "1.2.0",
          "state": {
            "_model_module": "@jupyter-widgets/base",
            "_model_module_version": "1.2.0",
            "_model_name": "LayoutModel",
            "_view_count": null,
            "_view_module": "@jupyter-widgets/base",
            "_view_module_version": "1.2.0",
            "_view_name": "LayoutView",
            "align_content": null,
            "align_items": null,
            "align_self": null,
            "border": null,
            "bottom": null,
            "display": null,
            "flex": null,
            "flex_flow": null,
            "grid_area": null,
            "grid_auto_columns": null,
            "grid_auto_flow": null,
            "grid_auto_rows": null,
            "grid_column": null,
            "grid_gap": null,
            "grid_row": null,
            "grid_template_areas": null,
            "grid_template_columns": null,
            "grid_template_rows": null,
            "height": null,
            "justify_content": null,
            "justify_items": null,
            "left": null,
            "margin": null,
            "max_height": null,
            "max_width": null,
            "min_height": null,
            "min_width": null,
            "object_fit": null,
            "object_position": null,
            "order": null,
            "overflow": null,
            "overflow_x": null,
            "overflow_y": null,
            "padding": null,
            "right": null,
            "top": null,
            "visibility": null,
            "width": null
          }
        },
        "8135c65684cc45d692130b2a5e2384f8": {
          "model_module": "@jupyter-widgets/controls",
          "model_name": "ProgressStyleModel",
          "model_module_version": "1.5.0",
          "state": {
            "_model_module": "@jupyter-widgets/controls",
            "_model_module_version": "1.5.0",
            "_model_name": "ProgressStyleModel",
            "_view_count": null,
            "_view_module": "@jupyter-widgets/base",
            "_view_module_version": "1.2.0",
            "_view_name": "StyleView",
            "bar_color": null,
            "description_width": ""
          }
        },
        "fd7689644ffd4091b8ea814fb360308f": {
          "model_module": "@jupyter-widgets/base",
          "model_name": "LayoutModel",
          "model_module_version": "1.2.0",
          "state": {
            "_model_module": "@jupyter-widgets/base",
            "_model_module_version": "1.2.0",
            "_model_name": "LayoutModel",
            "_view_count": null,
            "_view_module": "@jupyter-widgets/base",
            "_view_module_version": "1.2.0",
            "_view_name": "LayoutView",
            "align_content": null,
            "align_items": null,
            "align_self": null,
            "border": null,
            "bottom": null,
            "display": null,
            "flex": null,
            "flex_flow": null,
            "grid_area": null,
            "grid_auto_columns": null,
            "grid_auto_flow": null,
            "grid_auto_rows": null,
            "grid_column": null,
            "grid_gap": null,
            "grid_row": null,
            "grid_template_areas": null,
            "grid_template_columns": null,
            "grid_template_rows": null,
            "height": null,
            "justify_content": null,
            "justify_items": null,
            "left": null,
            "margin": null,
            "max_height": null,
            "max_width": null,
            "min_height": null,
            "min_width": null,
            "object_fit": null,
            "object_position": null,
            "order": null,
            "overflow": null,
            "overflow_x": null,
            "overflow_y": null,
            "padding": null,
            "right": null,
            "top": null,
            "visibility": null,
            "width": null
          }
        },
        "a7006bed9ead49ca8f77a20914551733": {
          "model_module": "@jupyter-widgets/controls",
          "model_name": "DescriptionStyleModel",
          "model_module_version": "1.5.0",
          "state": {
            "_model_module": "@jupyter-widgets/controls",
            "_model_module_version": "1.5.0",
            "_model_name": "DescriptionStyleModel",
            "_view_count": null,
            "_view_module": "@jupyter-widgets/base",
            "_view_module_version": "1.2.0",
            "_view_name": "StyleView",
            "description_width": ""
          }
        },
        "fb098bb73d9c419588beedaba27243d0": {
          "model_module": "@jupyter-widgets/controls",
          "model_name": "HBoxModel",
          "model_module_version": "1.5.0",
          "state": {
            "_dom_classes": [],
            "_model_module": "@jupyter-widgets/controls",
            "_model_module_version": "1.5.0",
            "_model_name": "HBoxModel",
            "_view_count": null,
            "_view_module": "@jupyter-widgets/controls",
            "_view_module_version": "1.5.0",
            "_view_name": "HBoxView",
            "box_style": "",
            "children": [
              "IPY_MODEL_caab64a630144ebbbc05881e7a4a55a2",
              "IPY_MODEL_f593eb0e5fcc4f0fab885e2bf79fbff4",
              "IPY_MODEL_f3a836afdce34f6791d88db010815996"
            ],
            "layout": "IPY_MODEL_ff31766975954b41af9a879c9de75389"
          }
        },
        "caab64a630144ebbbc05881e7a4a55a2": {
          "model_module": "@jupyter-widgets/controls",
          "model_name": "HTMLModel",
          "model_module_version": "1.5.0",
          "state": {
            "_dom_classes": [],
            "_model_module": "@jupyter-widgets/controls",
            "_model_module_version": "1.5.0",
            "_model_name": "HTMLModel",
            "_view_count": null,
            "_view_module": "@jupyter-widgets/controls",
            "_view_module_version": "1.5.0",
            "_view_name": "HTMLView",
            "description": "",
            "description_tooltip": null,
            "layout": "IPY_MODEL_9c3ac9535cfb4cf088d797015e88d778",
            "placeholder": "​",
            "style": "IPY_MODEL_3c019c41665f43e7a69940adf74250c7",
            "value": "Downloading model.safetensors: 100%"
          }
        },
        "f593eb0e5fcc4f0fab885e2bf79fbff4": {
          "model_module": "@jupyter-widgets/controls",
          "model_name": "FloatProgressModel",
          "model_module_version": "1.5.0",
          "state": {
            "_dom_classes": [],
            "_model_module": "@jupyter-widgets/controls",
            "_model_module_version": "1.5.0",
            "_model_name": "FloatProgressModel",
            "_view_count": null,
            "_view_module": "@jupyter-widgets/controls",
            "_view_module_version": "1.5.0",
            "_view_name": "ProgressView",
            "bar_style": "success",
            "description": "",
            "description_tooltip": null,
            "layout": "IPY_MODEL_4431cb9feab546d5a44c6ff9dd92a6fe",
            "max": 242043056,
            "min": 0,
            "orientation": "horizontal",
            "style": "IPY_MODEL_213a6320148f46ba8ffcdc425cd75bf1",
            "value": 242043056
          }
        },
        "f3a836afdce34f6791d88db010815996": {
          "model_module": "@jupyter-widgets/controls",
          "model_name": "HTMLModel",
          "model_module_version": "1.5.0",
          "state": {
            "_dom_classes": [],
            "_model_module": "@jupyter-widgets/controls",
            "_model_module_version": "1.5.0",
            "_model_name": "HTMLModel",
            "_view_count": null,
            "_view_module": "@jupyter-widgets/controls",
            "_view_module_version": "1.5.0",
            "_view_name": "HTMLView",
            "description": "",
            "description_tooltip": null,
            "layout": "IPY_MODEL_33f81372211e411eb843d9370b08d8d4",
            "placeholder": "​",
            "style": "IPY_MODEL_011f9cced7e649428ed027a2ae001635",
            "value": " 242M/242M [00:02&lt;00:00, 94.1MB/s]"
          }
        },
        "ff31766975954b41af9a879c9de75389": {
          "model_module": "@jupyter-widgets/base",
          "model_name": "LayoutModel",
          "model_module_version": "1.2.0",
          "state": {
            "_model_module": "@jupyter-widgets/base",
            "_model_module_version": "1.2.0",
            "_model_name": "LayoutModel",
            "_view_count": null,
            "_view_module": "@jupyter-widgets/base",
            "_view_module_version": "1.2.0",
            "_view_name": "LayoutView",
            "align_content": null,
            "align_items": null,
            "align_self": null,
            "border": null,
            "bottom": null,
            "display": null,
            "flex": null,
            "flex_flow": null,
            "grid_area": null,
            "grid_auto_columns": null,
            "grid_auto_flow": null,
            "grid_auto_rows": null,
            "grid_column": null,
            "grid_gap": null,
            "grid_row": null,
            "grid_template_areas": null,
            "grid_template_columns": null,
            "grid_template_rows": null,
            "height": null,
            "justify_content": null,
            "justify_items": null,
            "left": null,
            "margin": null,
            "max_height": null,
            "max_width": null,
            "min_height": null,
            "min_width": null,
            "object_fit": null,
            "object_position": null,
            "order": null,
            "overflow": null,
            "overflow_x": null,
            "overflow_y": null,
            "padding": null,
            "right": null,
            "top": null,
            "visibility": null,
            "width": null
          }
        },
        "9c3ac9535cfb4cf088d797015e88d778": {
          "model_module": "@jupyter-widgets/base",
          "model_name": "LayoutModel",
          "model_module_version": "1.2.0",
          "state": {
            "_model_module": "@jupyter-widgets/base",
            "_model_module_version": "1.2.0",
            "_model_name": "LayoutModel",
            "_view_count": null,
            "_view_module": "@jupyter-widgets/base",
            "_view_module_version": "1.2.0",
            "_view_name": "LayoutView",
            "align_content": null,
            "align_items": null,
            "align_self": null,
            "border": null,
            "bottom": null,
            "display": null,
            "flex": null,
            "flex_flow": null,
            "grid_area": null,
            "grid_auto_columns": null,
            "grid_auto_flow": null,
            "grid_auto_rows": null,
            "grid_column": null,
            "grid_gap": null,
            "grid_row": null,
            "grid_template_areas": null,
            "grid_template_columns": null,
            "grid_template_rows": null,
            "height": null,
            "justify_content": null,
            "justify_items": null,
            "left": null,
            "margin": null,
            "max_height": null,
            "max_width": null,
            "min_height": null,
            "min_width": null,
            "object_fit": null,
            "object_position": null,
            "order": null,
            "overflow": null,
            "overflow_x": null,
            "overflow_y": null,
            "padding": null,
            "right": null,
            "top": null,
            "visibility": null,
            "width": null
          }
        },
        "3c019c41665f43e7a69940adf74250c7": {
          "model_module": "@jupyter-widgets/controls",
          "model_name": "DescriptionStyleModel",
          "model_module_version": "1.5.0",
          "state": {
            "_model_module": "@jupyter-widgets/controls",
            "_model_module_version": "1.5.0",
            "_model_name": "DescriptionStyleModel",
            "_view_count": null,
            "_view_module": "@jupyter-widgets/base",
            "_view_module_version": "1.2.0",
            "_view_name": "StyleView",
            "description_width": ""
          }
        },
        "4431cb9feab546d5a44c6ff9dd92a6fe": {
          "model_module": "@jupyter-widgets/base",
          "model_name": "LayoutModel",
          "model_module_version": "1.2.0",
          "state": {
            "_model_module": "@jupyter-widgets/base",
            "_model_module_version": "1.2.0",
            "_model_name": "LayoutModel",
            "_view_count": null,
            "_view_module": "@jupyter-widgets/base",
            "_view_module_version": "1.2.0",
            "_view_name": "LayoutView",
            "align_content": null,
            "align_items": null,
            "align_self": null,
            "border": null,
            "bottom": null,
            "display": null,
            "flex": null,
            "flex_flow": null,
            "grid_area": null,
            "grid_auto_columns": null,
            "grid_auto_flow": null,
            "grid_auto_rows": null,
            "grid_column": null,
            "grid_gap": null,
            "grid_row": null,
            "grid_template_areas": null,
            "grid_template_columns": null,
            "grid_template_rows": null,
            "height": null,
            "justify_content": null,
            "justify_items": null,
            "left": null,
            "margin": null,
            "max_height": null,
            "max_width": null,
            "min_height": null,
            "min_width": null,
            "object_fit": null,
            "object_position": null,
            "order": null,
            "overflow": null,
            "overflow_x": null,
            "overflow_y": null,
            "padding": null,
            "right": null,
            "top": null,
            "visibility": null,
            "width": null
          }
        },
        "213a6320148f46ba8ffcdc425cd75bf1": {
          "model_module": "@jupyter-widgets/controls",
          "model_name": "ProgressStyleModel",
          "model_module_version": "1.5.0",
          "state": {
            "_model_module": "@jupyter-widgets/controls",
            "_model_module_version": "1.5.0",
            "_model_name": "ProgressStyleModel",
            "_view_count": null,
            "_view_module": "@jupyter-widgets/base",
            "_view_module_version": "1.2.0",
            "_view_name": "StyleView",
            "bar_color": null,
            "description_width": ""
          }
        },
        "33f81372211e411eb843d9370b08d8d4": {
          "model_module": "@jupyter-widgets/base",
          "model_name": "LayoutModel",
          "model_module_version": "1.2.0",
          "state": {
            "_model_module": "@jupyter-widgets/base",
            "_model_module_version": "1.2.0",
            "_model_name": "LayoutModel",
            "_view_count": null,
            "_view_module": "@jupyter-widgets/base",
            "_view_module_version": "1.2.0",
            "_view_name": "LayoutView",
            "align_content": null,
            "align_items": null,
            "align_self": null,
            "border": null,
            "bottom": null,
            "display": null,
            "flex": null,
            "flex_flow": null,
            "grid_area": null,
            "grid_auto_columns": null,
            "grid_auto_flow": null,
            "grid_auto_rows": null,
            "grid_column": null,
            "grid_gap": null,
            "grid_row": null,
            "grid_template_areas": null,
            "grid_template_columns": null,
            "grid_template_rows": null,
            "height": null,
            "justify_content": null,
            "justify_items": null,
            "left": null,
            "margin": null,
            "max_height": null,
            "max_width": null,
            "min_height": null,
            "min_width": null,
            "object_fit": null,
            "object_position": null,
            "order": null,
            "overflow": null,
            "overflow_x": null,
            "overflow_y": null,
            "padding": null,
            "right": null,
            "top": null,
            "visibility": null,
            "width": null
          }
        },
        "011f9cced7e649428ed027a2ae001635": {
          "model_module": "@jupyter-widgets/controls",
          "model_name": "DescriptionStyleModel",
          "model_module_version": "1.5.0",
          "state": {
            "_model_module": "@jupyter-widgets/controls",
            "_model_module_version": "1.5.0",
            "_model_name": "DescriptionStyleModel",
            "_view_count": null,
            "_view_module": "@jupyter-widgets/base",
            "_view_module_version": "1.2.0",
            "_view_name": "StyleView",
            "description_width": ""
          }
        },
        "a534a1aed6ad4f06afdf443f1d9e6aeb": {
          "model_module": "@jupyter-widgets/controls",
          "model_name": "HBoxModel",
          "model_module_version": "1.5.0",
          "state": {
            "_dom_classes": [],
            "_model_module": "@jupyter-widgets/controls",
            "_model_module_version": "1.5.0",
            "_model_name": "HBoxModel",
            "_view_count": null,
            "_view_module": "@jupyter-widgets/controls",
            "_view_module_version": "1.5.0",
            "_view_name": "HBoxView",
            "box_style": "",
            "children": [
              "IPY_MODEL_e36e810e4db84c18a195ef7c30e709a0",
              "IPY_MODEL_52dbe55efcac4aa7add9faf135570390",
              "IPY_MODEL_bb72ccf7ee36401597cad01b11c41caa"
            ],
            "layout": "IPY_MODEL_4315517694784c08a3a7905814f77491"
          }
        },
        "e36e810e4db84c18a195ef7c30e709a0": {
          "model_module": "@jupyter-widgets/controls",
          "model_name": "HTMLModel",
          "model_module_version": "1.5.0",
          "state": {
            "_dom_classes": [],
            "_model_module": "@jupyter-widgets/controls",
            "_model_module_version": "1.5.0",
            "_model_name": "HTMLModel",
            "_view_count": null,
            "_view_module": "@jupyter-widgets/controls",
            "_view_module_version": "1.5.0",
            "_view_name": "HTMLView",
            "description": "",
            "description_tooltip": null,
            "layout": "IPY_MODEL_6791748eeb33458cbe15fd91c17dd8a9",
            "placeholder": "​",
            "style": "IPY_MODEL_29405f91b4d3430485f552e028fb03a9",
            "value": "Downloading (…)neration_config.json: 100%"
          }
        },
        "52dbe55efcac4aa7add9faf135570390": {
          "model_module": "@jupyter-widgets/controls",
          "model_name": "FloatProgressModel",
          "model_module_version": "1.5.0",
          "state": {
            "_dom_classes": [],
            "_model_module": "@jupyter-widgets/controls",
            "_model_module_version": "1.5.0",
            "_model_name": "FloatProgressModel",
            "_view_count": null,
            "_view_module": "@jupyter-widgets/controls",
            "_view_module_version": "1.5.0",
            "_view_name": "ProgressView",
            "bar_style": "success",
            "description": "",
            "description_tooltip": null,
            "layout": "IPY_MODEL_4cff9d7e3cbb43058574448a93f397e5",
            "max": 147,
            "min": 0,
            "orientation": "horizontal",
            "style": "IPY_MODEL_29265864199f42e1bca517d49a05edd5",
            "value": 147
          }
        },
        "bb72ccf7ee36401597cad01b11c41caa": {
          "model_module": "@jupyter-widgets/controls",
          "model_name": "HTMLModel",
          "model_module_version": "1.5.0",
          "state": {
            "_dom_classes": [],
            "_model_module": "@jupyter-widgets/controls",
            "_model_module_version": "1.5.0",
            "_model_name": "HTMLModel",
            "_view_count": null,
            "_view_module": "@jupyter-widgets/controls",
            "_view_module_version": "1.5.0",
            "_view_name": "HTMLView",
            "description": "",
            "description_tooltip": null,
            "layout": "IPY_MODEL_42cfd25b02824d4ea4a54728a76f0258",
            "placeholder": "​",
            "style": "IPY_MODEL_cfc63cd04cad4ae488f568db28433b5f",
            "value": " 147/147 [00:00&lt;00:00, 2.37kB/s]"
          }
        },
        "4315517694784c08a3a7905814f77491": {
          "model_module": "@jupyter-widgets/base",
          "model_name": "LayoutModel",
          "model_module_version": "1.2.0",
          "state": {
            "_model_module": "@jupyter-widgets/base",
            "_model_module_version": "1.2.0",
            "_model_name": "LayoutModel",
            "_view_count": null,
            "_view_module": "@jupyter-widgets/base",
            "_view_module_version": "1.2.0",
            "_view_name": "LayoutView",
            "align_content": null,
            "align_items": null,
            "align_self": null,
            "border": null,
            "bottom": null,
            "display": null,
            "flex": null,
            "flex_flow": null,
            "grid_area": null,
            "grid_auto_columns": null,
            "grid_auto_flow": null,
            "grid_auto_rows": null,
            "grid_column": null,
            "grid_gap": null,
            "grid_row": null,
            "grid_template_areas": null,
            "grid_template_columns": null,
            "grid_template_rows": null,
            "height": null,
            "justify_content": null,
            "justify_items": null,
            "left": null,
            "margin": null,
            "max_height": null,
            "max_width": null,
            "min_height": null,
            "min_width": null,
            "object_fit": null,
            "object_position": null,
            "order": null,
            "overflow": null,
            "overflow_x": null,
            "overflow_y": null,
            "padding": null,
            "right": null,
            "top": null,
            "visibility": null,
            "width": null
          }
        },
        "6791748eeb33458cbe15fd91c17dd8a9": {
          "model_module": "@jupyter-widgets/base",
          "model_name": "LayoutModel",
          "model_module_version": "1.2.0",
          "state": {
            "_model_module": "@jupyter-widgets/base",
            "_model_module_version": "1.2.0",
            "_model_name": "LayoutModel",
            "_view_count": null,
            "_view_module": "@jupyter-widgets/base",
            "_view_module_version": "1.2.0",
            "_view_name": "LayoutView",
            "align_content": null,
            "align_items": null,
            "align_self": null,
            "border": null,
            "bottom": null,
            "display": null,
            "flex": null,
            "flex_flow": null,
            "grid_area": null,
            "grid_auto_columns": null,
            "grid_auto_flow": null,
            "grid_auto_rows": null,
            "grid_column": null,
            "grid_gap": null,
            "grid_row": null,
            "grid_template_areas": null,
            "grid_template_columns": null,
            "grid_template_rows": null,
            "height": null,
            "justify_content": null,
            "justify_items": null,
            "left": null,
            "margin": null,
            "max_height": null,
            "max_width": null,
            "min_height": null,
            "min_width": null,
            "object_fit": null,
            "object_position": null,
            "order": null,
            "overflow": null,
            "overflow_x": null,
            "overflow_y": null,
            "padding": null,
            "right": null,
            "top": null,
            "visibility": null,
            "width": null
          }
        },
        "29405f91b4d3430485f552e028fb03a9": {
          "model_module": "@jupyter-widgets/controls",
          "model_name": "DescriptionStyleModel",
          "model_module_version": "1.5.0",
          "state": {
            "_model_module": "@jupyter-widgets/controls",
            "_model_module_version": "1.5.0",
            "_model_name": "DescriptionStyleModel",
            "_view_count": null,
            "_view_module": "@jupyter-widgets/base",
            "_view_module_version": "1.2.0",
            "_view_name": "StyleView",
            "description_width": ""
          }
        },
        "4cff9d7e3cbb43058574448a93f397e5": {
          "model_module": "@jupyter-widgets/base",
          "model_name": "LayoutModel",
          "model_module_version": "1.2.0",
          "state": {
            "_model_module": "@jupyter-widgets/base",
            "_model_module_version": "1.2.0",
            "_model_name": "LayoutModel",
            "_view_count": null,
            "_view_module": "@jupyter-widgets/base",
            "_view_module_version": "1.2.0",
            "_view_name": "LayoutView",
            "align_content": null,
            "align_items": null,
            "align_self": null,
            "border": null,
            "bottom": null,
            "display": null,
            "flex": null,
            "flex_flow": null,
            "grid_area": null,
            "grid_auto_columns": null,
            "grid_auto_flow": null,
            "grid_auto_rows": null,
            "grid_column": null,
            "grid_gap": null,
            "grid_row": null,
            "grid_template_areas": null,
            "grid_template_columns": null,
            "grid_template_rows": null,
            "height": null,
            "justify_content": null,
            "justify_items": null,
            "left": null,
            "margin": null,
            "max_height": null,
            "max_width": null,
            "min_height": null,
            "min_width": null,
            "object_fit": null,
            "object_position": null,
            "order": null,
            "overflow": null,
            "overflow_x": null,
            "overflow_y": null,
            "padding": null,
            "right": null,
            "top": null,
            "visibility": null,
            "width": null
          }
        },
        "29265864199f42e1bca517d49a05edd5": {
          "model_module": "@jupyter-widgets/controls",
          "model_name": "ProgressStyleModel",
          "model_module_version": "1.5.0",
          "state": {
            "_model_module": "@jupyter-widgets/controls",
            "_model_module_version": "1.5.0",
            "_model_name": "ProgressStyleModel",
            "_view_count": null,
            "_view_module": "@jupyter-widgets/base",
            "_view_module_version": "1.2.0",
            "_view_name": "StyleView",
            "bar_color": null,
            "description_width": ""
          }
        },
        "42cfd25b02824d4ea4a54728a76f0258": {
          "model_module": "@jupyter-widgets/base",
          "model_name": "LayoutModel",
          "model_module_version": "1.2.0",
          "state": {
            "_model_module": "@jupyter-widgets/base",
            "_model_module_version": "1.2.0",
            "_model_name": "LayoutModel",
            "_view_count": null,
            "_view_module": "@jupyter-widgets/base",
            "_view_module_version": "1.2.0",
            "_view_name": "LayoutView",
            "align_content": null,
            "align_items": null,
            "align_self": null,
            "border": null,
            "bottom": null,
            "display": null,
            "flex": null,
            "flex_flow": null,
            "grid_area": null,
            "grid_auto_columns": null,
            "grid_auto_flow": null,
            "grid_auto_rows": null,
            "grid_column": null,
            "grid_gap": null,
            "grid_row": null,
            "grid_template_areas": null,
            "grid_template_columns": null,
            "grid_template_rows": null,
            "height": null,
            "justify_content": null,
            "justify_items": null,
            "left": null,
            "margin": null,
            "max_height": null,
            "max_width": null,
            "min_height": null,
            "min_width": null,
            "object_fit": null,
            "object_position": null,
            "order": null,
            "overflow": null,
            "overflow_x": null,
            "overflow_y": null,
            "padding": null,
            "right": null,
            "top": null,
            "visibility": null,
            "width": null
          }
        },
        "cfc63cd04cad4ae488f568db28433b5f": {
          "model_module": "@jupyter-widgets/controls",
          "model_name": "DescriptionStyleModel",
          "model_module_version": "1.5.0",
          "state": {
            "_model_module": "@jupyter-widgets/controls",
            "_model_module_version": "1.5.0",
            "_model_name": "DescriptionStyleModel",
            "_view_count": null,
            "_view_module": "@jupyter-widgets/base",
            "_view_module_version": "1.2.0",
            "_view_name": "StyleView",
            "description_width": ""
          }
        },
        "2005c22d3b914843afbe60cf9ff5f516": {
          "model_module": "@jupyter-widgets/controls",
          "model_name": "HBoxModel",
          "model_module_version": "1.5.0",
          "state": {
            "_dom_classes": [],
            "_model_module": "@jupyter-widgets/controls",
            "_model_module_version": "1.5.0",
            "_model_name": "HBoxModel",
            "_view_count": null,
            "_view_module": "@jupyter-widgets/controls",
            "_view_module_version": "1.5.0",
            "_view_name": "HBoxView",
            "box_style": "",
            "children": [
              "IPY_MODEL_81fb850f99534f4192d2f5da05b8bb71",
              "IPY_MODEL_9037f49096624c68918fedcfa02195a0",
              "IPY_MODEL_a637b128f6114628a02cb3f09db39b07"
            ],
            "layout": "IPY_MODEL_d5cf663eee124d46ba67ee2c4b7fdec3"
          }
        },
        "81fb850f99534f4192d2f5da05b8bb71": {
          "model_module": "@jupyter-widgets/controls",
          "model_name": "HTMLModel",
          "model_module_version": "1.5.0",
          "state": {
            "_dom_classes": [],
            "_model_module": "@jupyter-widgets/controls",
            "_model_module_version": "1.5.0",
            "_model_name": "HTMLModel",
            "_view_count": null,
            "_view_module": "@jupyter-widgets/controls",
            "_view_module_version": "1.5.0",
            "_view_name": "HTMLView",
            "description": "",
            "description_tooltip": null,
            "layout": "IPY_MODEL_b0ccb22eefa0498199cb85270c7cb67b",
            "placeholder": "​",
            "style": "IPY_MODEL_a5b70d352c5e48689459ee58fac27558",
            "value": "Downloading (…)ve/main/spiece.model: 100%"
          }
        },
        "9037f49096624c68918fedcfa02195a0": {
          "model_module": "@jupyter-widgets/controls",
          "model_name": "FloatProgressModel",
          "model_module_version": "1.5.0",
          "state": {
            "_dom_classes": [],
            "_model_module": "@jupyter-widgets/controls",
            "_model_module_version": "1.5.0",
            "_model_name": "FloatProgressModel",
            "_view_count": null,
            "_view_module": "@jupyter-widgets/controls",
            "_view_module_version": "1.5.0",
            "_view_name": "ProgressView",
            "bar_style": "success",
            "description": "",
            "description_tooltip": null,
            "layout": "IPY_MODEL_e7c44c5fc1fe4737ac2fec84a7ac07f5",
            "max": 791656,
            "min": 0,
            "orientation": "horizontal",
            "style": "IPY_MODEL_92225f1eb9594642a9be771bcacd1ae1",
            "value": 791656
          }
        },
        "a637b128f6114628a02cb3f09db39b07": {
          "model_module": "@jupyter-widgets/controls",
          "model_name": "HTMLModel",
          "model_module_version": "1.5.0",
          "state": {
            "_dom_classes": [],
            "_model_module": "@jupyter-widgets/controls",
            "_model_module_version": "1.5.0",
            "_model_name": "HTMLModel",
            "_view_count": null,
            "_view_module": "@jupyter-widgets/controls",
            "_view_module_version": "1.5.0",
            "_view_name": "HTMLView",
            "description": "",
            "description_tooltip": null,
            "layout": "IPY_MODEL_a73590f6a33f45f1baafe6e2611422be",
            "placeholder": "​",
            "style": "IPY_MODEL_dfbc9031f9784e1e99eae563fd70b3fc",
            "value": " 792k/792k [00:00&lt;00:00, 4.39MB/s]"
          }
        },
        "d5cf663eee124d46ba67ee2c4b7fdec3": {
          "model_module": "@jupyter-widgets/base",
          "model_name": "LayoutModel",
          "model_module_version": "1.2.0",
          "state": {
            "_model_module": "@jupyter-widgets/base",
            "_model_module_version": "1.2.0",
            "_model_name": "LayoutModel",
            "_view_count": null,
            "_view_module": "@jupyter-widgets/base",
            "_view_module_version": "1.2.0",
            "_view_name": "LayoutView",
            "align_content": null,
            "align_items": null,
            "align_self": null,
            "border": null,
            "bottom": null,
            "display": null,
            "flex": null,
            "flex_flow": null,
            "grid_area": null,
            "grid_auto_columns": null,
            "grid_auto_flow": null,
            "grid_auto_rows": null,
            "grid_column": null,
            "grid_gap": null,
            "grid_row": null,
            "grid_template_areas": null,
            "grid_template_columns": null,
            "grid_template_rows": null,
            "height": null,
            "justify_content": null,
            "justify_items": null,
            "left": null,
            "margin": null,
            "max_height": null,
            "max_width": null,
            "min_height": null,
            "min_width": null,
            "object_fit": null,
            "object_position": null,
            "order": null,
            "overflow": null,
            "overflow_x": null,
            "overflow_y": null,
            "padding": null,
            "right": null,
            "top": null,
            "visibility": null,
            "width": null
          }
        },
        "b0ccb22eefa0498199cb85270c7cb67b": {
          "model_module": "@jupyter-widgets/base",
          "model_name": "LayoutModel",
          "model_module_version": "1.2.0",
          "state": {
            "_model_module": "@jupyter-widgets/base",
            "_model_module_version": "1.2.0",
            "_model_name": "LayoutModel",
            "_view_count": null,
            "_view_module": "@jupyter-widgets/base",
            "_view_module_version": "1.2.0",
            "_view_name": "LayoutView",
            "align_content": null,
            "align_items": null,
            "align_self": null,
            "border": null,
            "bottom": null,
            "display": null,
            "flex": null,
            "flex_flow": null,
            "grid_area": null,
            "grid_auto_columns": null,
            "grid_auto_flow": null,
            "grid_auto_rows": null,
            "grid_column": null,
            "grid_gap": null,
            "grid_row": null,
            "grid_template_areas": null,
            "grid_template_columns": null,
            "grid_template_rows": null,
            "height": null,
            "justify_content": null,
            "justify_items": null,
            "left": null,
            "margin": null,
            "max_height": null,
            "max_width": null,
            "min_height": null,
            "min_width": null,
            "object_fit": null,
            "object_position": null,
            "order": null,
            "overflow": null,
            "overflow_x": null,
            "overflow_y": null,
            "padding": null,
            "right": null,
            "top": null,
            "visibility": null,
            "width": null
          }
        },
        "a5b70d352c5e48689459ee58fac27558": {
          "model_module": "@jupyter-widgets/controls",
          "model_name": "DescriptionStyleModel",
          "model_module_version": "1.5.0",
          "state": {
            "_model_module": "@jupyter-widgets/controls",
            "_model_module_version": "1.5.0",
            "_model_name": "DescriptionStyleModel",
            "_view_count": null,
            "_view_module": "@jupyter-widgets/base",
            "_view_module_version": "1.2.0",
            "_view_name": "StyleView",
            "description_width": ""
          }
        },
        "e7c44c5fc1fe4737ac2fec84a7ac07f5": {
          "model_module": "@jupyter-widgets/base",
          "model_name": "LayoutModel",
          "model_module_version": "1.2.0",
          "state": {
            "_model_module": "@jupyter-widgets/base",
            "_model_module_version": "1.2.0",
            "_model_name": "LayoutModel",
            "_view_count": null,
            "_view_module": "@jupyter-widgets/base",
            "_view_module_version": "1.2.0",
            "_view_name": "LayoutView",
            "align_content": null,
            "align_items": null,
            "align_self": null,
            "border": null,
            "bottom": null,
            "display": null,
            "flex": null,
            "flex_flow": null,
            "grid_area": null,
            "grid_auto_columns": null,
            "grid_auto_flow": null,
            "grid_auto_rows": null,
            "grid_column": null,
            "grid_gap": null,
            "grid_row": null,
            "grid_template_areas": null,
            "grid_template_columns": null,
            "grid_template_rows": null,
            "height": null,
            "justify_content": null,
            "justify_items": null,
            "left": null,
            "margin": null,
            "max_height": null,
            "max_width": null,
            "min_height": null,
            "min_width": null,
            "object_fit": null,
            "object_position": null,
            "order": null,
            "overflow": null,
            "overflow_x": null,
            "overflow_y": null,
            "padding": null,
            "right": null,
            "top": null,
            "visibility": null,
            "width": null
          }
        },
        "92225f1eb9594642a9be771bcacd1ae1": {
          "model_module": "@jupyter-widgets/controls",
          "model_name": "ProgressStyleModel",
          "model_module_version": "1.5.0",
          "state": {
            "_model_module": "@jupyter-widgets/controls",
            "_model_module_version": "1.5.0",
            "_model_name": "ProgressStyleModel",
            "_view_count": null,
            "_view_module": "@jupyter-widgets/base",
            "_view_module_version": "1.2.0",
            "_view_name": "StyleView",
            "bar_color": null,
            "description_width": ""
          }
        },
        "a73590f6a33f45f1baafe6e2611422be": {
          "model_module": "@jupyter-widgets/base",
          "model_name": "LayoutModel",
          "model_module_version": "1.2.0",
          "state": {
            "_model_module": "@jupyter-widgets/base",
            "_model_module_version": "1.2.0",
            "_model_name": "LayoutModel",
            "_view_count": null,
            "_view_module": "@jupyter-widgets/base",
            "_view_module_version": "1.2.0",
            "_view_name": "LayoutView",
            "align_content": null,
            "align_items": null,
            "align_self": null,
            "border": null,
            "bottom": null,
            "display": null,
            "flex": null,
            "flex_flow": null,
            "grid_area": null,
            "grid_auto_columns": null,
            "grid_auto_flow": null,
            "grid_auto_rows": null,
            "grid_column": null,
            "grid_gap": null,
            "grid_row": null,
            "grid_template_areas": null,
            "grid_template_columns": null,
            "grid_template_rows": null,
            "height": null,
            "justify_content": null,
            "justify_items": null,
            "left": null,
            "margin": null,
            "max_height": null,
            "max_width": null,
            "min_height": null,
            "min_width": null,
            "object_fit": null,
            "object_position": null,
            "order": null,
            "overflow": null,
            "overflow_x": null,
            "overflow_y": null,
            "padding": null,
            "right": null,
            "top": null,
            "visibility": null,
            "width": null
          }
        },
        "dfbc9031f9784e1e99eae563fd70b3fc": {
          "model_module": "@jupyter-widgets/controls",
          "model_name": "DescriptionStyleModel",
          "model_module_version": "1.5.0",
          "state": {
            "_model_module": "@jupyter-widgets/controls",
            "_model_module_version": "1.5.0",
            "_model_name": "DescriptionStyleModel",
            "_view_count": null,
            "_view_module": "@jupyter-widgets/base",
            "_view_module_version": "1.2.0",
            "_view_name": "StyleView",
            "description_width": ""
          }
        },
        "a979906b0faf4e9fb95f8a2a730dcd71": {
          "model_module": "@jupyter-widgets/controls",
          "model_name": "HBoxModel",
          "model_module_version": "1.5.0",
          "state": {
            "_dom_classes": [],
            "_model_module": "@jupyter-widgets/controls",
            "_model_module_version": "1.5.0",
            "_model_name": "HBoxModel",
            "_view_count": null,
            "_view_module": "@jupyter-widgets/controls",
            "_view_module_version": "1.5.0",
            "_view_name": "HBoxView",
            "box_style": "",
            "children": [
              "IPY_MODEL_f2135e7031464a46b09bd40714fe60c6",
              "IPY_MODEL_d635b06275fa491e8490627a9be60bf5",
              "IPY_MODEL_bab1714fd69f4103abc3dad80e44c4a4"
            ],
            "layout": "IPY_MODEL_1aafbc83798444c9a7896c7877e0cee2"
          }
        },
        "f2135e7031464a46b09bd40714fe60c6": {
          "model_module": "@jupyter-widgets/controls",
          "model_name": "HTMLModel",
          "model_module_version": "1.5.0",
          "state": {
            "_dom_classes": [],
            "_model_module": "@jupyter-widgets/controls",
            "_model_module_version": "1.5.0",
            "_model_name": "HTMLModel",
            "_view_count": null,
            "_view_module": "@jupyter-widgets/controls",
            "_view_module_version": "1.5.0",
            "_view_name": "HTMLView",
            "description": "",
            "description_tooltip": null,
            "layout": "IPY_MODEL_9830bb8e0c5e4514a8db9586e8fb29d9",
            "placeholder": "​",
            "style": "IPY_MODEL_1f3c65359d20476f9f654a2dfa9d4f16",
            "value": "Downloading (…)okenizer_config.json: 100%"
          }
        },
        "d635b06275fa491e8490627a9be60bf5": {
          "model_module": "@jupyter-widgets/controls",
          "model_name": "FloatProgressModel",
          "model_module_version": "1.5.0",
          "state": {
            "_dom_classes": [],
            "_model_module": "@jupyter-widgets/controls",
            "_model_module_version": "1.5.0",
            "_model_name": "FloatProgressModel",
            "_view_count": null,
            "_view_module": "@jupyter-widgets/controls",
            "_view_module_version": "1.5.0",
            "_view_name": "ProgressView",
            "bar_style": "success",
            "description": "",
            "description_tooltip": null,
            "layout": "IPY_MODEL_833c402456be4440bdb3b6ff7832a016",
            "max": 2324,
            "min": 0,
            "orientation": "horizontal",
            "style": "IPY_MODEL_ff634fc9ef48439ea37bbd7378f38333",
            "value": 2324
          }
        },
        "bab1714fd69f4103abc3dad80e44c4a4": {
          "model_module": "@jupyter-widgets/controls",
          "model_name": "HTMLModel",
          "model_module_version": "1.5.0",
          "state": {
            "_dom_classes": [],
            "_model_module": "@jupyter-widgets/controls",
            "_model_module_version": "1.5.0",
            "_model_name": "HTMLModel",
            "_view_count": null,
            "_view_module": "@jupyter-widgets/controls",
            "_view_module_version": "1.5.0",
            "_view_name": "HTMLView",
            "description": "",
            "description_tooltip": null,
            "layout": "IPY_MODEL_6579f3e50ad54cf28e338be165b7d545",
            "placeholder": "​",
            "style": "IPY_MODEL_e3be7e5d25fb4a74ae096fc1dcede1ff",
            "value": " 2.32k/2.32k [00:00&lt;00:00, 30.5kB/s]"
          }
        },
        "1aafbc83798444c9a7896c7877e0cee2": {
          "model_module": "@jupyter-widgets/base",
          "model_name": "LayoutModel",
          "model_module_version": "1.2.0",
          "state": {
            "_model_module": "@jupyter-widgets/base",
            "_model_module_version": "1.2.0",
            "_model_name": "LayoutModel",
            "_view_count": null,
            "_view_module": "@jupyter-widgets/base",
            "_view_module_version": "1.2.0",
            "_view_name": "LayoutView",
            "align_content": null,
            "align_items": null,
            "align_self": null,
            "border": null,
            "bottom": null,
            "display": null,
            "flex": null,
            "flex_flow": null,
            "grid_area": null,
            "grid_auto_columns": null,
            "grid_auto_flow": null,
            "grid_auto_rows": null,
            "grid_column": null,
            "grid_gap": null,
            "grid_row": null,
            "grid_template_areas": null,
            "grid_template_columns": null,
            "grid_template_rows": null,
            "height": null,
            "justify_content": null,
            "justify_items": null,
            "left": null,
            "margin": null,
            "max_height": null,
            "max_width": null,
            "min_height": null,
            "min_width": null,
            "object_fit": null,
            "object_position": null,
            "order": null,
            "overflow": null,
            "overflow_x": null,
            "overflow_y": null,
            "padding": null,
            "right": null,
            "top": null,
            "visibility": null,
            "width": null
          }
        },
        "9830bb8e0c5e4514a8db9586e8fb29d9": {
          "model_module": "@jupyter-widgets/base",
          "model_name": "LayoutModel",
          "model_module_version": "1.2.0",
          "state": {
            "_model_module": "@jupyter-widgets/base",
            "_model_module_version": "1.2.0",
            "_model_name": "LayoutModel",
            "_view_count": null,
            "_view_module": "@jupyter-widgets/base",
            "_view_module_version": "1.2.0",
            "_view_name": "LayoutView",
            "align_content": null,
            "align_items": null,
            "align_self": null,
            "border": null,
            "bottom": null,
            "display": null,
            "flex": null,
            "flex_flow": null,
            "grid_area": null,
            "grid_auto_columns": null,
            "grid_auto_flow": null,
            "grid_auto_rows": null,
            "grid_column": null,
            "grid_gap": null,
            "grid_row": null,
            "grid_template_areas": null,
            "grid_template_columns": null,
            "grid_template_rows": null,
            "height": null,
            "justify_content": null,
            "justify_items": null,
            "left": null,
            "margin": null,
            "max_height": null,
            "max_width": null,
            "min_height": null,
            "min_width": null,
            "object_fit": null,
            "object_position": null,
            "order": null,
            "overflow": null,
            "overflow_x": null,
            "overflow_y": null,
            "padding": null,
            "right": null,
            "top": null,
            "visibility": null,
            "width": null
          }
        },
        "1f3c65359d20476f9f654a2dfa9d4f16": {
          "model_module": "@jupyter-widgets/controls",
          "model_name": "DescriptionStyleModel",
          "model_module_version": "1.5.0",
          "state": {
            "_model_module": "@jupyter-widgets/controls",
            "_model_module_version": "1.5.0",
            "_model_name": "DescriptionStyleModel",
            "_view_count": null,
            "_view_module": "@jupyter-widgets/base",
            "_view_module_version": "1.2.0",
            "_view_name": "StyleView",
            "description_width": ""
          }
        },
        "833c402456be4440bdb3b6ff7832a016": {
          "model_module": "@jupyter-widgets/base",
          "model_name": "LayoutModel",
          "model_module_version": "1.2.0",
          "state": {
            "_model_module": "@jupyter-widgets/base",
            "_model_module_version": "1.2.0",
            "_model_name": "LayoutModel",
            "_view_count": null,
            "_view_module": "@jupyter-widgets/base",
            "_view_module_version": "1.2.0",
            "_view_name": "LayoutView",
            "align_content": null,
            "align_items": null,
            "align_self": null,
            "border": null,
            "bottom": null,
            "display": null,
            "flex": null,
            "flex_flow": null,
            "grid_area": null,
            "grid_auto_columns": null,
            "grid_auto_flow": null,
            "grid_auto_rows": null,
            "grid_column": null,
            "grid_gap": null,
            "grid_row": null,
            "grid_template_areas": null,
            "grid_template_columns": null,
            "grid_template_rows": null,
            "height": null,
            "justify_content": null,
            "justify_items": null,
            "left": null,
            "margin": null,
            "max_height": null,
            "max_width": null,
            "min_height": null,
            "min_width": null,
            "object_fit": null,
            "object_position": null,
            "order": null,
            "overflow": null,
            "overflow_x": null,
            "overflow_y": null,
            "padding": null,
            "right": null,
            "top": null,
            "visibility": null,
            "width": null
          }
        },
        "ff634fc9ef48439ea37bbd7378f38333": {
          "model_module": "@jupyter-widgets/controls",
          "model_name": "ProgressStyleModel",
          "model_module_version": "1.5.0",
          "state": {
            "_model_module": "@jupyter-widgets/controls",
            "_model_module_version": "1.5.0",
            "_model_name": "ProgressStyleModel",
            "_view_count": null,
            "_view_module": "@jupyter-widgets/base",
            "_view_module_version": "1.2.0",
            "_view_name": "StyleView",
            "bar_color": null,
            "description_width": ""
          }
        },
        "6579f3e50ad54cf28e338be165b7d545": {
          "model_module": "@jupyter-widgets/base",
          "model_name": "LayoutModel",
          "model_module_version": "1.2.0",
          "state": {
            "_model_module": "@jupyter-widgets/base",
            "_model_module_version": "1.2.0",
            "_model_name": "LayoutModel",
            "_view_count": null,
            "_view_module": "@jupyter-widgets/base",
            "_view_module_version": "1.2.0",
            "_view_name": "LayoutView",
            "align_content": null,
            "align_items": null,
            "align_self": null,
            "border": null,
            "bottom": null,
            "display": null,
            "flex": null,
            "flex_flow": null,
            "grid_area": null,
            "grid_auto_columns": null,
            "grid_auto_flow": null,
            "grid_auto_rows": null,
            "grid_column": null,
            "grid_gap": null,
            "grid_row": null,
            "grid_template_areas": null,
            "grid_template_columns": null,
            "grid_template_rows": null,
            "height": null,
            "justify_content": null,
            "justify_items": null,
            "left": null,
            "margin": null,
            "max_height": null,
            "max_width": null,
            "min_height": null,
            "min_width": null,
            "object_fit": null,
            "object_position": null,
            "order": null,
            "overflow": null,
            "overflow_x": null,
            "overflow_y": null,
            "padding": null,
            "right": null,
            "top": null,
            "visibility": null,
            "width": null
          }
        },
        "e3be7e5d25fb4a74ae096fc1dcede1ff": {
          "model_module": "@jupyter-widgets/controls",
          "model_name": "DescriptionStyleModel",
          "model_module_version": "1.5.0",
          "state": {
            "_model_module": "@jupyter-widgets/controls",
            "_model_module_version": "1.5.0",
            "_model_name": "DescriptionStyleModel",
            "_view_count": null,
            "_view_module": "@jupyter-widgets/base",
            "_view_module_version": "1.2.0",
            "_view_name": "StyleView",
            "description_width": ""
          }
        }
      }
    }
  },
  "cells": [
    {
      "cell_type": "markdown",
      "metadata": {
        "id": "view-in-github",
        "colab_type": "text"
      },
      "source": [
        "<a href=\"https://colab.research.google.com/github/NikyParfenov/EncoderDecoderTraining/blob/master/EncoderDecoderDifferentTraining.ipynb\" target=\"_parent\"><img src=\"https://colab.research.google.com/assets/colab-badge.svg\" alt=\"Open In Colab\"/></a>"
      ]
    },
    {
      "cell_type": "markdown",
      "source": [
        "Training an Encoder Decoer Model in different ways\n",
        "\n",
        "1. Masked LM - Used for Encoder-Decoder type models (t5,flan-t5 etc)\n",
        "2. Causal LM - Used for Decoder type models (gpt2,bloom,palm etc)\n",
        "3. Teacher Forcing - Can be used for both\n"
      ],
      "metadata": {
        "id": "-7nF7stufLSM"
      }
    },
    {
      "cell_type": "code",
      "source": [
        "!pip install transformers[sentencepiece]\n",
        "!pip install accelerate\n",
        "!pip install bitsandbytes\n",
        "!pip install peft\n",
        "from transformers import T5Tokenizer, T5ForConditionalGeneration\n",
        "import numpy as np\n",
        "import torch"
      ],
      "metadata": {
        "id": "UYt7rOpcBKPH",
        "colab": {
          "base_uri": "https://localhost:8080/"
        },
        "outputId": "e95ef75c-9e48-4a75-df14-200733f903b7"
      },
      "execution_count": null,
      "outputs": [
        {
          "output_type": "stream",
          "name": "stdout",
          "text": [
            "Installing collected packages: peft\n",
            "Successfully installed peft-0.3.0\n"
          ]
        }
      ]
    },
    {
      "cell_type": "markdown",
      "source": [
        " ## Masked LM/ denoising training\n",
        "\n",
        "https://huggingface.co/docs/transformers/main/model_doc/t5#training"
      ],
      "metadata": {
        "id": "oZhTHhdTDqVU"
      }
    },
    {
      "cell_type": "code",
      "execution_count": null,
      "metadata": {
        "id": "6siPNPvIdd8r"
      },
      "outputs": [],
      "source": [
        "# utility class for denoised training, taken from hugging face library\n",
        "class FlaxDataCollatorForT5MLM:\n",
        "    \"\"\"\n",
        "    From https://github.com/huggingface/transformers/blob/main/examples/flax/language-modeling/run_t5_mlm_flax.py\n",
        "    \"\"\"\n",
        "    def __init__(self,tokenizer,noise_density,mean_noise_span_length) -> None:\n",
        "        self.tokenizer = tokenizer\n",
        "        self.noise_density = noise_density\n",
        "        self.mean_noise_span_length =mean_noise_span_length\n",
        "\n",
        "    def create_sentinel_ids(self, mask_indices):\n",
        "        \"\"\"\n",
        "        Sentinel ids creation given the indices that should be masked.\n",
        "        The start indices of each mask are replaced by the sentinel ids in increasing\n",
        "        order. Consecutive mask indices to be deleted are replaced with `-1`.\n",
        "        \"\"\"\n",
        "        start_indices = mask_indices - np.roll(mask_indices, 1, axis=-1) * mask_indices\n",
        "        start_indices[:, 0] = mask_indices[:, 0]\n",
        "\n",
        "        sentinel_ids = np.where(start_indices != 0, np.cumsum(start_indices, axis=-1), start_indices)\n",
        "        sentinel_ids = np.where(sentinel_ids != 0, (len(self.tokenizer) - sentinel_ids), 0)\n",
        "        sentinel_ids -= mask_indices - start_indices\n",
        "\n",
        "        return sentinel_ids\n",
        "\n",
        "    def filter_input_ids(self, input_ids, sentinel_ids):\n",
        "        \"\"\"\n",
        "        Puts sentinel mask on `input_ids` and fuse consecutive mask tokens into a single mask token by deleting.\n",
        "        This will reduce the sequence length from `expanded_inputs_length` to `input_length`.\n",
        "        \"\"\"\n",
        "        batch_size = input_ids.shape[0]\n",
        "\n",
        "        input_ids_full = np.where(sentinel_ids != 0, sentinel_ids, input_ids)\n",
        "        # input_ids tokens and sentinel tokens are >= 0, tokens < 0 are\n",
        "        # masked tokens coming after sentinel tokens and should be removed\n",
        "        input_ids = input_ids_full[input_ids_full >= 0].reshape((batch_size, -1))\n",
        "        input_ids = np.concatenate(\n",
        "            [input_ids, np.full((batch_size, 1), self.tokenizer.eos_token_id, dtype=np.int32)], axis=-1\n",
        "        )\n",
        "        return input_ids\n",
        "\n",
        "    def random_spans_noise_mask(self, length):\n",
        "        \"\"\"This function is copy of `random_spans_helper <https://github.com/google-research/text-to-text-transfer-transformer/blob/84f8bcc14b5f2c03de51bd3587609ba8f6bbd1cd/t5/data/preprocessors.py#L2682>`__ .\n",
        "        # with the correction of this https://github.com/huggingface/transformers/pull/22938/files\n",
        "        Noise mask consisting of random spans of noise tokens.\n",
        "        The number of noise tokens and the number of noise spans and non-noise spans\n",
        "        are determined deterministically as follows:\n",
        "        num_noise_tokens = round(length * noise_density)\n",
        "        num_nonnoise_spans = num_noise_spans = round(num_noise_tokens / mean_noise_span_length)\n",
        "        Spans alternate between non-noise and noise, beginning with non-noise.\n",
        "        Subject to the above restrictions, all masks are equally likely.\n",
        "        Args:\n",
        "            length: an int32 scalar (length of the incoming token sequence)\n",
        "            noise_density: a float - approximate density of output mask\n",
        "            mean_noise_span_length: a number\n",
        "        Returns:\n",
        "            a boolean tensor with shape [length]\n",
        "        \"\"\"\n",
        "\n",
        "        orig_length = length\n",
        "\n",
        "        num_noise_tokens = int(np.round(length * self.noise_density))\n",
        "        num_nonnoise_tokens = length - num_noise_tokens\n",
        "        # avoid degeneracy by ensuring positive numbers of noise and nonnoise tokens.\n",
        "        num_noise_tokens = min(max(num_noise_tokens, 1), length - 1)\n",
        "        # num_noise_tokens should be less than num_noise_tokens and num_nonnoise_tokens\n",
        "        num_noise_spans = int(np.round(min(num_noise_tokens, num_nonnoise_tokens) / self.mean_noise_span_length))\n",
        "\n",
        "        # avoid degeneracy by ensuring positive number of noise spans\n",
        "        num_noise_spans = max(num_noise_spans, 1)\n",
        "\n",
        "        # pick the lengths of the noise spans and the non-noise spans\n",
        "        def _random_segmentation(num_items, num_segments):\n",
        "            \"\"\"Partition a sequence of items randomly into non-empty segments.\n",
        "            Args:\n",
        "                num_items: an integer scalar > 0\n",
        "                num_segments: an integer scalar in [1, num_items]\n",
        "            Returns:\n",
        "                a Tensor with shape [num_segments] containing positive integers that add\n",
        "                up to num_items\n",
        "            \"\"\"\n",
        "            mask_indices = np.arange(num_items - 1) < (num_segments - 1)\n",
        "            np.random.shuffle(mask_indices)\n",
        "            first_in_segment = np.pad(mask_indices, [[1, 0]])\n",
        "            segment_id = np.cumsum(first_in_segment)\n",
        "            # count length of sub segments assuming that list is sorted\n",
        "            _, segment_length = np.unique(segment_id, return_counts=True)\n",
        "            return segment_length\n",
        "\n",
        "        noise_span_lengths = _random_segmentation(num_noise_tokens, num_noise_spans)\n",
        "        nonnoise_span_lengths = _random_segmentation(num_nonnoise_tokens, num_noise_spans)\n",
        "\n",
        "        interleaved_span_lengths = np.reshape(\n",
        "            np.stack([nonnoise_span_lengths, noise_span_lengths], axis=1), [num_noise_spans * 2]\n",
        "        )\n",
        "        span_starts = np.cumsum(interleaved_span_lengths)[:-1]\n",
        "        span_start_indicator = np.zeros((length,), dtype=np.int8)\n",
        "        span_start_indicator[span_starts] = True\n",
        "        span_num = np.cumsum(span_start_indicator)\n",
        "        is_noise = np.equal(span_num % 2, 1)\n",
        "\n",
        "        return is_noise[:orig_length]\n",
        "\n",
        "\n",
        "def get_denoised(FlaxDataCollatorForT5MLM, tokenizer, prompt):\n",
        "    encoded = tokenizer(prompt, truncation=False, padding=False, return_tensors=\"pt\")\n",
        "    batch_size =1\n",
        "    input_length = encoded.input_ids.shape[1]\n",
        "    denoiser = FlaxDataCollatorForT5MLM(tokenizer,.55,1.5)\n",
        "    mask_indices = np.asarray([denoiser.random_spans_noise_mask(input_length) for i in range(batch_size)])\n",
        "    labels_mask = ~mask_indices\n",
        "    input_ids_sentinel = denoiser.create_sentinel_ids(mask_indices.astype(np.int8))\n",
        "    labels_sentinel = denoiser.create_sentinel_ids(labels_mask.astype(np.int8))\n",
        "    input_ids = denoiser.filter_input_ids(encoded.input_ids, input_ids_sentinel)\n",
        "    labels  =  denoiser.filter_input_ids(encoded.input_ids, labels_sentinel)\n",
        "    return labels,input_ids\n",
        "\n",
        "\n",
        "\n",
        "def print_token_id(tokenizer,token):\n",
        "  # Encode the token\n",
        "  encoded = tokenizer.encode(token)\n",
        "  # Print the id\n",
        "  print(token,encoded[0])\n",
        "  return encoded[0]\n",
        "\n",
        "def print_special_tokens(tokenizer):\n",
        "    # Special tokens and their ids\n",
        "    special_tokens = {}\n",
        "    for attr in tokenizer.special_tokens_map:\n",
        "        special_tokens[attr] = tokenizer.convert_tokens_to_ids(tokenizer.special_tokens_map[attr])\n",
        "\n",
        "    # Print special tokens\n",
        "    print(special_tokens)\n"
      ]
    },
    {
      "cell_type": "code",
      "source": [
        "def shift_tokens_right(input_ids, pad_token_id, eos_token_id):\n",
        "  \"\"\" Shift input ids one token to the right, and add pad token at the first position, and eos token to the last \"\"\"\n",
        "  # Create a larger tensor that includes space for the EOS token\n",
        "  shifted_input_ids = torch.zeros((input_ids.shape[0], input_ids.shape[1] + 1), dtype=input_ids.dtype)\n",
        "\n",
        "  # Shift input_ids one step to the right\n",
        "  shifted_input_ids[:, 1:] = input_ids\n",
        "\n",
        "  # Set the first token to the pad_token_id\n",
        "  shifted_input_ids[:, 0] = pad_token_id\n",
        "\n",
        "  # Set the last token to the eos_token_id\n",
        "  shifted_input_ids[:, -1] = eos_token_id\n",
        "\n",
        "  return shifted_input_ids"
      ],
      "metadata": {
        "id": "4pzIZJX5TkgU"
      },
      "execution_count": null,
      "outputs": []
    },
    {
      "cell_type": "code",
      "source": [
        " arr = np.array([[1, 2,3, 4,5]])\n",
        " arr = torch.tensor(arr)\n",
        " print(shift_tokens_right(arr,0,6))"
      ],
      "metadata": {
        "colab": {
          "base_uri": "https://localhost:8080/"
        },
        "id": "3A_klNwqdF8H",
        "outputId": "abcd58ac-f1ad-4ab5-b03f-fdb3409df160"
      },
      "execution_count": null,
      "outputs": [
        {
          "output_type": "stream",
          "name": "stdout",
          "text": [
            "tensor([[0, 1, 2, 3, 4, 6]])\n"
          ]
        }
      ]
    },
    {
      "cell_type": "markdown",
      "source": [
        "## Using Masked LM for Seq to Seq model"
      ],
      "metadata": {
        "id": "6LU5lvPDVNWd"
      }
    },
    {
      "cell_type": "code",
      "source": [
        "#from transformers import T5Tokenizer, T5ForConditionalGeneration\n",
        "from transformers import AutoTokenizer, AutoModelForSeq2SeqLM\n",
        "\n",
        "model_name = 't5-base'\n",
        "tokenizer = AutoTokenizer.from_pretrained(model_name)# or T5Tokenizer\n",
        "len_tokenizer =len(tokenizer) # 32100 to get the sentinel ids\n",
        "print(f\"len_tokenizer={len_tokenizer}\")"
      ],
      "metadata": {
        "colab": {
          "base_uri": "https://localhost:8080/"
        },
        "id": "nVM89j9bBcu6",
        "outputId": "c80f55af-9c5f-41dd-cf2d-763fc2977a17"
      },
      "execution_count": null,
      "outputs": [
        {
          "output_type": "stream",
          "name": "stdout",
          "text": [
            "len_tokenizer=32100\n"
          ]
        },
        {
          "output_type": "stream",
          "name": "stderr",
          "text": [
            "/usr/local/lib/python3.10/dist-packages/transformers/models/t5/tokenization_t5_fast.py:155: FutureWarning: This tokenizer was incorrectly instantiated with a model max length of 512 which will be corrected in Transformers v5.\n",
            "For now, this behavior is kept to avoid breaking backwards compatibility when padding/encoding with `truncation is True`.\n",
            "- Be aware that you SHOULD NOT rely on t5-base automatically truncating your input to 512 when padding/encoding.\n",
            "- If you want to encode/pad to sequences longer than 512 you can either instantiate this tokenizer with `model_max_length` or pass `max_length` when encoding/padding.\n",
            "- To avoid this warning, please instantiate this tokenizer with `model_max_length` set to your preferred value.\n",
            "  warnings.warn(\n"
          ]
        }
      ]
    },
    {
      "cell_type": "code",
      "source": [
        "# This below is what happens in the denoised training\n",
        "prompt = \"The <extra_id_0> walks in <extra_id_1> park\"\n",
        "encoded_prompt = tokenizer(prompt, truncation=False, padding=False, return_tensors=\"pt\").input_ids\n",
        "print(f\"encoded_prompt ={encoded_prompt}\")\n",
        "labels =\"<extra_id_0> cute dog <extra_id_1> the <extra_id_2>\"\n",
        "encoded_labels = tokenizer(labels, truncation=False, padding=False, return_tensors=\"pt\").input_ids\n",
        "print(f\"encoded_labels ={encoded_labels}\")\n",
        "print(f\"encoded_prompt.shape=encoded_labels.shape {encoded_prompt.shape} ={encoded_labels.shape}\")\n",
        "\n",
        "# simulating the above\n",
        "\n",
        "print(\"\\n\"*2)\n",
        "\n",
        "prompt = \"The cute dog walks in the green park\"\n",
        "labels, input_ids = get_denoised(FlaxDataCollatorForT5MLM, tokenizer, prompt)\n",
        "print(f\"denoised input_ids decoded = {tokenizer.decode(*input_ids,skip_special_tokens=False)}\")\n",
        "print(f\"denoised labels decoded   = {tokenizer.decode(*labels,skip_special_tokens=False)}\")\n",
        "print(f\"input_ids.shape {input_ids.shape} labels.shape {labels.shape}\") # todo should this be equal\n"
      ],
      "metadata": {
        "colab": {
          "base_uri": "https://localhost:8080/"
        },
        "id": "M7BXCzRMB70L",
        "outputId": "09ce0738-fc52-4636-925d-86ff215cf4d2"
      },
      "execution_count": null,
      "outputs": [
        {
          "output_type": "stream",
          "name": "stdout",
          "text": [
            "encoded_prompt =tensor([[   37, 32099, 10681,    16, 32098,  2447,     1]])\n",
            "encoded_labels =tensor([[32099,  5295,  1782, 32098,     8, 32097,     1]])\n",
            "encoded_prompt.shape=encoded_labels.shape torch.Size([1, 7]) =torch.Size([1, 7])\n",
            "\n",
            "\n",
            "\n",
            "denoised input_ids decoded = The cute<extra_id_0> in<extra_id_1> green<extra_id_2></s>\n",
            "denoised labels decoded   = <extra_id_0> dog walks<extra_id_1> the<extra_id_2> park</s></s>\n",
            "input_ids.shape (1, 8) labels.shape (1, 9)\n"
          ]
        }
      ]
    },
    {
      "cell_type": "code",
      "source": [
        "  model = AutoModelForSeq2SeqLM.from_pretrained(\"t5-small\") # or T5ForConditionalGeneration\n",
        "  optimizer = torch.optim.AdamW(model.parameters(), lr=1e-4)"
      ],
      "metadata": {
        "id": "NQFdrw-YEJ8e"
      },
      "execution_count": null,
      "outputs": []
    },
    {
      "cell_type": "code",
      "source": [
        "  prompt = \"The cute dog walks in the green park\"\n",
        "  labels, input_ids = get_denoised(FlaxDataCollatorForT5MLM, tokenizer, prompt)\n",
        "  print(f\"denoised input_ids decoded = {tokenizer.decode(*input_ids,skip_special_tokens=False)}\")\n",
        "  print(f\"denoised labels decoded   = {tokenizer.decode(*labels,skip_special_tokens=False)}\")\n",
        "  print(f\"input_ids.shape {input_ids.shape} labels.shape {labels.shape}\") # todo should this be equal\n",
        "  denoised_input_ids = torch.from_numpy(input_ids)\n",
        "  denoised_labels = torch.from_numpy(labels)\n",
        "  denoised_attention_mask = torch.ones(input_ids.shape)\n",
        "\n",
        "  model.train()\n",
        "  for epoch in range(100):\n",
        "      outputs = model(input_ids=denoised_input_ids,attention_mask=denoised_attention_mask,\n",
        "                      labels=denoised_labels)\n",
        "      loss = outputs.loss\n",
        "      if epoch % 20 == 0:\n",
        "          print(f\"Epoch {epoch}  Loss {loss}\")\n",
        "      loss.backward()\n",
        "      optimizer.step()\n",
        "      optimizer.zero_grad()\n",
        "  print(f\"Epoch {epoch}  Loss {loss}\")\n",
        "  #-------------------------------------------------------------"
      ],
      "metadata": {
        "colab": {
          "base_uri": "https://localhost:8080/"
        },
        "id": "nDs3YXWpA2U4",
        "outputId": "d347d6c8-0baa-41b0-c214-b9dc0c871c03"
      },
      "execution_count": null,
      "outputs": [
        {
          "output_type": "stream",
          "name": "stdout",
          "text": [
            "denoised input_ids decoded = The<extra_id_0> dog walks<extra_id_1> the<extra_id_2></s>\n",
            "denoised labels decoded   = <extra_id_0> cute<extra_id_1> in<extra_id_2> green park</s></s>\n",
            "input_ids.shape (1, 8) labels.shape (1, 9)\n",
            "Epoch 0  Loss 3.533181667327881\n",
            "Epoch 20  Loss 1.1342705488204956\n",
            "Epoch 40  Loss 0.5043283700942993\n",
            "Epoch 60  Loss 0.11743383854627609\n",
            "Epoch 80  Loss 0.38232171535491943\n",
            "Epoch 99  Loss 0.01801321841776371\n"
          ]
        }
      ]
    },
    {
      "cell_type": "code",
      "source": [
        "  # After  training\n",
        "  model.eval()\n",
        "  test_prompt = \"The  <extra_id_0> dog  walks in the <extra_id_2>\"\n",
        "  encoded = tokenizer(test_prompt, truncation=False, padding=False, return_tensors=\"pt\")\n",
        "  test_output = model.generate(input_ids = encoded.input_ids,num_return_sequences=1,max_length=125)\n",
        "  test_answer = tokenizer.decode(test_output[0], skip_special_tokens=True)\n",
        "  print(f\"After Training:'{test_prompt}'-->'{test_answer}'\")"
      ],
      "metadata": {
        "colab": {
          "base_uri": "https://localhost:8080/"
        },
        "id": "4POirRLPH4E8",
        "outputId": "b6029fd3-0672-4c3d-ecd8-4fc5cc8e927f"
      },
      "execution_count": null,
      "outputs": [
        {
          "output_type": "stream",
          "name": "stdout",
          "text": [
            "After Training:'The  <extra_id_0> dog  walks in the <extra_id_2>'-->'cute green park'\n"
          ]
        }
      ]
    },
    {
      "cell_type": "markdown",
      "source": [
        "## Masked LM for Generative Models  \n",
        "\n",
        "Let's try masked  LM on Decoder only model\n",
        "\n",
        "GPT-2 is a causal language model, designed to predict the next token in a sequence given the previous tokens. It's usually trained using a standard language modeling objective, without the use of denoising.\n",
        "\n",
        "As you can see from output, this sort of training is not effective for Generative models"
      ],
      "metadata": {
        "id": "xL0tBixFWocM"
      }
    },
    {
      "cell_type": "code",
      "source": [
        "  from transformers import AutoModelForCausalLM,AutoTokenizer\n",
        "  model = AutoModelForCausalLM.from_pretrained(\"gpt2\")\n",
        "  tokenizer = AutoTokenizer.from_pretrained(\"gpt2\")\n",
        "  optimizer = torch.optim.AdamW(model.parameters(), lr=1e-4)"
      ],
      "metadata": {
        "id": "2-5eHNRkXJpN"
      },
      "execution_count": null,
      "outputs": []
    },
    {
      "cell_type": "code",
      "source": [
        "  prompt = \"The cute dog walks in the green park\"\n",
        "  labels, input_ids = get_denoised(FlaxDataCollatorForT5MLM, tokenizer, prompt)\n",
        "  print(f\"denoised input_ids decoded = {tokenizer.decode(*input_ids,skip_special_tokens=False)}\")\n",
        "  print(f\"denoised labels decoded   = {tokenizer.decode(*labels,skip_special_tokens=False)}\")\n",
        "  print(f\"input_ids.shape {input_ids.shape} labels.shape {labels.shape}\") # this should be equal for CausalLM models\n",
        "  denoised_input_ids = torch.from_numpy(input_ids)\n",
        "  denoised_labels = torch.from_numpy(labels)\n",
        "  denoised_attention_mask = torch.ones(input_ids.shape)\n",
        "\n",
        "  model.train()\n",
        "  for epoch in range(100):\n",
        "      outputs = model(input_ids=denoised_input_ids,attention_mask=denoised_attention_mask,\n",
        "                      labels=denoised_labels)\n",
        "      loss = outputs.loss\n",
        "      if epoch % 20 == 0:\n",
        "          print(f\"Epoch {epoch}  Loss {loss}\")\n",
        "      loss.backward()\n",
        "      optimizer.step()\n",
        "      optimizer.zero_grad()\n",
        "  print(f\"Epoch {epoch}  Loss {loss}\")"
      ],
      "metadata": {
        "colab": {
          "base_uri": "https://localhost:8080/"
        },
        "id": "RRhAXXPlXDPZ",
        "outputId": "bd45b984-d104-4343-c24d-77b5cc8d35c8"
      },
      "execution_count": null,
      "outputs": [
        {
          "output_type": "stream",
          "name": "stdout",
          "text": [
            "denoised input_ids decoded = The<|endoftext|> dog gazed the green informants<|endoftext|>\n",
            "denoised labels decoded   = <|endoftext|> cute gazed walks in informants park<|endoftext|>\n",
            "input_ids.shape (1, 8) labels.shape (1, 8)\n",
            "Epoch 0  Loss 11.180167198181152\n",
            "Epoch 20  Loss 0.0005788219859823585\n",
            "Epoch 40  Loss 0.0019290262134745717\n",
            "Epoch 60  Loss 0.000539803528226912\n",
            "Epoch 80  Loss 5.3726726036984473e-05\n",
            "Epoch 99  Loss 0.8452759385108948\n"
          ]
        }
      ]
    },
    {
      "cell_type": "code",
      "source": [
        "  # After  training\n",
        "  model.eval()\n",
        "  test_prompt = \"The  <extra_id_0> dog  walks in the <extra_id_2>\"\n",
        "  encoded = tokenizer(test_prompt, truncation=False, padding=False, return_tensors=\"pt\")\n",
        "  test_output = model.generate(input_ids = encoded.input_ids,num_return_sequences=1,max_length=125)\n",
        "  test_answer = tokenizer.decode(test_output[0], skip_special_tokens=True)\n",
        "  print(f\"After Training:'{test_prompt}'-->'{test_answer}'\")"
      ],
      "metadata": {
        "colab": {
          "base_uri": "https://localhost:8080/"
        },
        "id": "HUkShQjHbrwp",
        "outputId": "d2aca30e-8be4-4801-b542-d79e054ea28f"
      },
      "execution_count": null,
      "outputs": [
        {
          "output_type": "stream",
          "name": "stderr",
          "text": [
            "The attention mask and the pad token id were not set. As a consequence, you may observe unexpected behavior. Please pass your input's `attention_mask` to obtain reliable results.\n",
            "Setting `pad_token_id` to `eos_token_id`:50256 for open-end generation.\n"
          ]
        },
        {
          "output_type": "stream",
          "name": "stdout",
          "text": [
            "After Training:'The  <extra_id_0> dog  walks in the <extra_id_2>'-->'The  <extra_id_0> dog  walks in the <extra_id_2> gazed in.\"'\n"
          ]
        }
      ]
    },
    {
      "cell_type": "markdown",
      "source": [
        "## Causal LM training - teacher forced for Sequence to Sequence Models\n",
        "\n",
        "We are using Teacher forcing for Language Modeling; Basically predicting the next word, from the previous workds.\n",
        "\n",
        "To force the labels to show the correct ground truth, we shift the label which is the ground truth to the right as shown below.\n",
        "\n",
        "This type of training can be used best for CausalLM\n"
      ],
      "metadata": {
        "id": "qlZBahM1fJ7g"
      }
    },
    {
      "cell_type": "code",
      "source": [
        "print_token_id(tokenizer,\"<\\s>\" )\n",
        "print_special_tokens(tokenizer)"
      ],
      "metadata": {
        "colab": {
          "base_uri": "https://localhost:8080/"
        },
        "id": "0ApoS4DBa5wU",
        "outputId": "bcae86f8-7cab-4a63-953b-819f97bdb8e5"
      },
      "execution_count": null,
      "outputs": [
        {
          "output_type": "stream",
          "name": "stdout",
          "text": [
            "3\n",
            "{'eos_token': 1, 'unk_token': 2, 'pad_token': 0, 'additional_special_tokens': [32099, 32098, 32097, 32096, 32095, 32094, 32093, 32092, 32091, 32090, 32089, 32088, 32087, 32086, 32085, 32084, 32083, 32082, 32081, 32080, 32079, 32078, 32077, 32076, 32075, 32074, 32073, 32072, 32071, 32070, 32069, 32068, 32067, 32066, 32065, 32064, 32063, 32062, 32061, 32060, 32059, 32058, 32057, 32056, 32055, 32054, 32053, 32052, 32051, 32050, 32049, 32048, 32047, 32046, 32045, 32044, 32043, 32042, 32041, 32040, 32039, 32038, 32037, 32036, 32035, 32034, 32033, 32032, 32031, 32030, 32029, 32028, 32027, 32026, 32025, 32024, 32023, 32022, 32021, 32020, 32019, 32018, 32017, 32016, 32015, 32014, 32013, 32012, 32011, 32010, 32009, 32008, 32007, 32006, 32005, 32004, 32003, 32002, 32001, 32000]}\n"
          ]
        }
      ]
    },
    {
      "cell_type": "code",
      "source": [
        "model_name =\"t5-small\"\n",
        "model = T5ForConditionalGeneration.from_pretrained(model_name)\n",
        "optimizer = torch.optim.AdamW(model.parameters(), lr=1e-4)\n",
        "tokenizer = T5Tokenizer.from_pretrained(model_name)"
      ],
      "metadata": {
        "id": "KE6O6Gc-KEoD"
      },
      "execution_count": null,
      "outputs": []
    },
    {
      "cell_type": "code",
      "source": [
        "test_prompt = \"The cute dog walks in the green park\"\n",
        "encoded = tokenizer(test_prompt, truncation=False, padding=True, return_tensors=\"pt\")\n",
        "label_input_ids = shift_tokens_right(encoded.input_ids,model.config.pad_token_id,model.config.eos_token_id)\n",
        "\n",
        "print(f\"teacher_forced input_ids    = {(encoded.input_ids.squeeze())}\")\n",
        "print(f\"teacher_forced input_ids decoded = {tokenizer.decode(encoded.input_ids.squeeze(),skip_special_tokens=False)}\")# .squeeze() as it takes a batch\n",
        "print(f\"teacher_forced labels    = {(label_input_ids.squeeze())}\")\n",
        "print(f\"teacher_forced labels decoded   = {tokenizer.decode(label_input_ids.squeeze(),skip_special_tokens=False)}\")"
      ],
      "metadata": {
        "colab": {
          "base_uri": "https://localhost:8080/"
        },
        "id": "jdmWqOsjL2zr",
        "outputId": "8c3634f0-0074-448a-da35-652e91a71f7a"
      },
      "execution_count": null,
      "outputs": [
        {
          "output_type": "stream",
          "name": "stdout",
          "text": [
            "teacher_forced input_ids    = tensor([   37,  5295,  1782, 10681,    16,     8,  1442,  2447,     1])\n",
            "teacher_forced input_ids decoded = The cute dog walks in the green park</s>\n",
            "teacher_forced labels    = tensor([    0,    37,  5295,  1782, 10681,    16,     8,  1442,  2447,     1])\n",
            "teacher_forced labels decoded   = <pad> The cute dog walks in the green park</s>\n"
          ]
        }
      ]
    },
    {
      "cell_type": "code",
      "source": [
        "model.train()\n",
        "for epoch in range(200):\n",
        "    outputs = model(input_ids=encoded.input_ids,attention_mask=encoded.attention_mask,\n",
        "                    labels=label_input_ids)\n",
        "    loss = outputs.loss\n",
        "    if epoch % 40 == 0:\n",
        "        print(f\"Epoch {epoch}  Loss {loss}\")\n",
        "    loss.backward()\n",
        "    optimizer.step()\n",
        "    optimizer.zero_grad()\n",
        "print(f\"Epoch {epoch}  Loss {loss}\")\n",
        "  #-------------------------------------------------------------"
      ],
      "metadata": {
        "colab": {
          "base_uri": "https://localhost:8080/"
        },
        "id": "WNJGqSSJDx8L",
        "outputId": "90e0327e-11fa-4897-bbee-9602545ceff9"
      },
      "execution_count": null,
      "outputs": [
        {
          "output_type": "stream",
          "name": "stdout",
          "text": [
            "Epoch 0  Loss 2.868603229522705\n",
            "Epoch 40  Loss 0.622085690498352\n",
            "Epoch 80  Loss 0.21471920609474182\n",
            "Epoch 120  Loss 0.19337992370128632\n",
            "Epoch 160  Loss 0.2608181834220886\n",
            "Epoch 199  Loss 0.4793122708797455\n"
          ]
        }
      ]
    },
    {
      "cell_type": "code",
      "source": [
        "  model.eval()\n",
        "  test_prompt = \"The cute dog walks in the\"\n",
        "  encoded = tokenizer(test_prompt, truncation=False, padding=True, return_tensors=\"pt\")\n",
        "  test_output = model.generate(input_ids = encoded.input_ids,max_new_tokens=125)\n",
        "  test_answer = tokenizer.decode(test_output[0], skip_special_tokens=True)\n",
        "  print(f\"After Training:'{test_prompt}'-->'{test_answer}'\")"
      ],
      "metadata": {
        "colab": {
          "base_uri": "https://localhost:8080/"
        },
        "id": "jHzZh8OXZgGi",
        "outputId": "3cc506b7-1de9-411f-c3a3-7e150a30c61d"
      },
      "execution_count": null,
      "outputs": [
        {
          "output_type": "stream",
          "name": "stdout",
          "text": [
            "After Training:'The cute dog walks in the'-->'The cute dog walks in the green park'\n"
          ]
        }
      ]
    },
    {
      "cell_type": "markdown",
      "source": [
        "## Causal LM training -Teacher forced for Generative models"
      ],
      "metadata": {
        "id": "Q0AyeQ_yZVVi"
      }
    },
    {
      "cell_type": "code",
      "source": [
        "from transformers import AutoModelForCausalLM,AutoTokenizer\n",
        "\n",
        "tokenizer = AutoTokenizer.from_pretrained(\"gpt2\")\n",
        "print(model.config.pad_token_id,model.config.eos_token_id)\n",
        "tokenizer.add_special_tokens({'pad_token': '[PAD]'})\n",
        "# GPT does not have the pad token set, so we add a new token\n",
        "pad_token_id = print_token_id(tokenizer,\"[PAD]\")\n",
        "tokenizer.pad_token = pad_token_id\n",
        "# and update the model with the token\n",
        "model = AutoModelForCausalLM.from_pretrained(\"gpt2\")\n",
        "#model.resize_token_embeddings(len(tokenizer))\n"
      ],
      "metadata": {
        "colab": {
          "base_uri": "https://localhost:8080/"
        },
        "id": "azNE7rVseW8O",
        "outputId": "5a3299f0-1780-4db5-c83f-4b21adc01eb9"
      },
      "execution_count": null,
      "outputs": [
        {
          "output_type": "stream",
          "name": "stdout",
          "text": [
            "None 50256\n",
            "[PAD] 50257\n"
          ]
        }
      ]
    },
    {
      "cell_type": "code",
      "source": [
        "test_prompt = \"The cute dog walks in the green park\"\n",
        "\n",
        "encoded = tokenizer(test_prompt, truncation=False, padding=True, return_tensors=\"pt\")\n",
        "#from torch.nn.functional import pad\n",
        "# Pad the input_ids tensor on the right (at the end)\n",
        "#encoded.input_ids = pad(encoded.input_ids, (0, 1), value=tokenizer.pad_token_id)\n",
        "labels = shift_tokens_right(encoded.input_ids,pad_token_id,tokenizer.eos_token_id)\n",
        "\n",
        "print(f\"teacher_forced input_ids decoded = {tokenizer.decode(encoded.input_ids.squeeze(),skip_special_tokens=False)}\")# .squeeze() as it takes a batch\n",
        "print(f\"teacher_forced labels decoded   = {tokenizer.decode(labels.squeeze(),skip_special_tokens=False)}\")\n",
        "\n",
        "# we need the sizes to match\n",
        "\n",
        "# add a pad token to input ids to match the size\n",
        "new_token = torch.tensor([tokenizer.eos_token_id])\n",
        "new_token = new_token.view(1, -1)\n",
        "# Append the new token\n",
        "encoded.input_ids = torch.cat((encoded.input_ids, new_token),dim=1)\n",
        "print(f\"teacher_forced input_ids decoded = {tokenizer.decode(encoded.input_ids.squeeze(),skip_special_tokens=False)}\")#\n",
        "\n",
        "assert encoded.input_ids.size() == labels.size()\n",
        "\n",
        "attention_mask = torch.ones(encoded.input_ids.shape)\n",
        "print(attention_mask.shape)\n",
        "\n",
        "# Note that training with the above the loss do not decrease"
      ],
      "metadata": {
        "colab": {
          "base_uri": "https://localhost:8080/"
        },
        "id": "QQJs7srR8C9v",
        "outputId": "332d3e42-9214-4225-aab9-4422892a444a"
      },
      "execution_count": null,
      "outputs": [
        {
          "output_type": "stream",
          "name": "stdout",
          "text": [
            "teacher_forced input_ids decoded = The cute dog walks in the green park\n",
            "teacher_forced labels decoded   = [PAD]The cute dog walks in the green<|endoftext|>\n",
            "teacher_forced input_ids decoded = The cute dog walks in the green park<|endoftext|>\n",
            "torch.Size([1, 9])\n"
          ]
        }
      ]
    },
    {
      "cell_type": "code",
      "source": [
        "model.train()\n",
        "for epoch in range(10):\n",
        "    outputs = model(input_ids=encoded.input_ids,attention_mask=attention_mask,\n",
        "                    labels=labels)\n",
        "    loss = outputs.loss\n",
        "    if epoch % 20 == 0:\n",
        "        print(f\"Epoch {epoch}  Loss {loss}\")\n",
        "    loss.backward()\n",
        "    optimizer.step()\n",
        "    optimizer.zero_grad()\n",
        "print(f\"Epoch {epoch}  Loss {loss}\")\n"
      ],
      "metadata": {
        "colab": {
          "base_uri": "https://localhost:8080/"
        },
        "id": "yzRyrMFgK6CH",
        "outputId": "d97697e2-7d32-45f1-e0fa-c84819f3a47b"
      },
      "execution_count": null,
      "outputs": [
        {
          "output_type": "stream",
          "name": "stdout",
          "text": [
            "Epoch 0  Loss 7.023041248321533\n",
            "Epoch 9  Loss 8.018503189086914\n"
          ]
        }
      ]
    },
    {
      "cell_type": "code",
      "source": [
        "# Genertaive models need the input shape and target shape to be exact; I guess the shifting cell to right is automatically happening here\n",
        "# yes it is - https://discuss.huggingface.co/t/shifting-ids-to-the-right-when-training-gpt-2-on-text-generation/5308/2\n",
        "# no need for things in above cell\n",
        "\n",
        "# so lets try without shifting right; in the assumption that it is already taken care by the model\n",
        " #Note there is no padding for this tokenizeer-see above on how to set pad token for the tokenizer and model\n",
        "\n",
        "from transformers import AutoModelForCausalLM,AutoTokenizer,GPT2LMHeadModel\n",
        "\n",
        "tokenizer = AutoTokenizer.from_pretrained(\"gpt2\")\n",
        "tokenizer.pad_token = tokenizer.eos_token\n",
        "model = AutoModelForCausalLM.from_pretrained(\"gpt2\") #GPT2LMHeadModel\n",
        "optimizer = torch.optim.AdamW(model.parameters(), lr=1e-4)\n"
      ],
      "metadata": {
        "id": "H_yBZCQvnLCC"
      },
      "execution_count": null,
      "outputs": []
    },
    {
      "cell_type": "code",
      "source": [
        "test_prompt = \"The cute dog walks in the green park\"\n",
        "#test_prompt = [\"The cute\", \"cute dog\", \"dog walks\", \"walks in\" ,\"in the\", \"the green\", \"green park\"]\n",
        "encoded = tokenizer(test_prompt, truncation=False, padding='longest', return_tensors=\"pt\") #\n",
        "label_input_ids = encoded.input_ids\n",
        "\n",
        "model.train()\n",
        "for epoch in range(50):\n",
        "    outputs = model(input_ids=encoded.input_ids,attention_mask=encoded.attention_mask,\n",
        "                    labels=label_input_ids)\n",
        "    loss = outputs.loss\n",
        "    if epoch % 20 == 0:\n",
        "        print(f\"Epoch {epoch}  Loss {loss}\")\n",
        "    loss.backward()\n",
        "    optimizer.step()\n",
        "    optimizer.zero_grad()\n",
        "print(f\"Epoch {epoch}  Loss {loss}\")"
      ],
      "metadata": {
        "colab": {
          "base_uri": "https://localhost:8080/"
        },
        "id": "89GaBnpXiAj8",
        "outputId": "aba5a997-a9e0-4bdf-f59f-d9e7c22e8b6c"
      },
      "execution_count": null,
      "outputs": [
        {
          "output_type": "stream",
          "name": "stdout",
          "text": [
            "Epoch 0  Loss 5.569321155548096\n",
            "Epoch 20  Loss 1.2724746465682983\n",
            "Epoch 40  Loss 0.00023454656184185296\n",
            "Epoch 49  Loss 8.242394869739655e-06\n"
          ]
        }
      ]
    },
    {
      "cell_type": "code",
      "source": [
        "model.eval()\n",
        "test_prompt = \"The\"\n",
        "encoded = tokenizer(test_prompt, truncation=False, padding=True, return_tensors=\"pt\")\n",
        "test_output = model.generate(encoded.input_ids,max_new_tokens=25)\n",
        "test_answer = tokenizer.decode(test_output[0], skip_special_tokens=True)\n",
        "print(f\"After Training:'{test_prompt}'-->'{test_answer}'\")\n",
        "test_prompt = \"Where does the cute dog walk\"\n",
        "encoded = tokenizer(test_prompt, truncation=False, padding=True, return_tensors=\"pt\")\n",
        "test_output = model.generate(encoded.input_ids,max_new_tokens=25)\n",
        "test_answer = tokenizer.decode(test_output[0], skip_special_tokens=True)\n",
        "print(f\"After Training:'{test_prompt}'-->'{test_answer}'\")"
      ],
      "metadata": {
        "colab": {
          "base_uri": "https://localhost:8080/"
        },
        "id": "hs5msm1DiomU",
        "outputId": "ce73ee42-a67d-4843-8a20-4a7d89339ed0"
      },
      "execution_count": null,
      "outputs": [
        {
          "output_type": "stream",
          "name": "stderr",
          "text": [
            "The attention mask and the pad token id were not set. As a consequence, you may observe unexpected behavior. Please pass your input's `attention_mask` to obtain reliable results.\n",
            "Setting `pad_token_id` to `eos_token_id`:50256 for open-end generation.\n",
            "The attention mask and the pad token id were not set. As a consequence, you may observe unexpected behavior. Please pass your input's `attention_mask` to obtain reliable results.\n",
            "Setting `pad_token_id` to `eos_token_id`:50256 for open-end generation.\n"
          ]
        },
        {
          "output_type": "stream",
          "name": "stdout",
          "text": [
            "After Training:'The'-->'The cute dog walks in the green park park park park park green park park park in the green park park park park in the green'\n",
            "After Training:'Where does the cute dog walk'-->'Where does the cute dog walk in the green park park park park green park park park park in the green park park park park park in the green park park'\n"
          ]
        }
      ]
    },
    {
      "cell_type": "markdown",
      "source": [
        "##  Teacher Forcing for Tasks\n",
        "\n",
        "The target here is not the input ids, but the labels.\n",
        "\n",
        "The label  is the ground truth (actual next word/sequence).\n",
        "\n",
        " During the forward pass, the model makes a prediction, and the difference\n",
        "  between the prediction and this ground truth is calculated to compute the loss.\n",
        "\n",
        "However here the training can be used for any arbitary tasks, like translation or QA etc"
      ],
      "metadata": {
        "id": "5Y1USYWdZ_D2"
      }
    },
    {
      "cell_type": "code",
      "source": [
        "model_name =\"t5-small\"\n",
        "model = T5ForConditionalGeneration.from_pretrained(model_name)\n",
        "optimizer = torch.optim.AdamW(model.parameters(), lr=1e-4)\n",
        "tokenizer = T5Tokenizer.from_pretrained(model_name)"
      ],
      "metadata": {
        "id": "BVxHifpLaJFp",
        "colab": {
          "base_uri": "https://localhost:8080/",
          "height": 177,
          "referenced_widgets": [
            "c5d481968a4f4dcabc0ab784a8901fe5",
            "1bf48e12aaa842628a6485183c77ee1c",
            "87ecbbca0f364431b370c64ff837cb52",
            "1602722c1a324f53b0b32893c19dec24",
            "469b81bc15024b19b49f80635a488d43",
            "2340f5bde16c436b98fb31040ebe8ac3",
            "ebcddc2826ef4bf5b86973f968d4309b",
            "393918e537b74cc49b90fd1e9c8928e0",
            "8135c65684cc45d692130b2a5e2384f8",
            "fd7689644ffd4091b8ea814fb360308f",
            "a7006bed9ead49ca8f77a20914551733",
            "fb098bb73d9c419588beedaba27243d0",
            "caab64a630144ebbbc05881e7a4a55a2",
            "f593eb0e5fcc4f0fab885e2bf79fbff4",
            "f3a836afdce34f6791d88db010815996",
            "ff31766975954b41af9a879c9de75389",
            "9c3ac9535cfb4cf088d797015e88d778",
            "3c019c41665f43e7a69940adf74250c7",
            "4431cb9feab546d5a44c6ff9dd92a6fe",
            "213a6320148f46ba8ffcdc425cd75bf1",
            "33f81372211e411eb843d9370b08d8d4",
            "011f9cced7e649428ed027a2ae001635",
            "a534a1aed6ad4f06afdf443f1d9e6aeb",
            "e36e810e4db84c18a195ef7c30e709a0",
            "52dbe55efcac4aa7add9faf135570390",
            "bb72ccf7ee36401597cad01b11c41caa",
            "4315517694784c08a3a7905814f77491",
            "6791748eeb33458cbe15fd91c17dd8a9",
            "29405f91b4d3430485f552e028fb03a9",
            "4cff9d7e3cbb43058574448a93f397e5",
            "29265864199f42e1bca517d49a05edd5",
            "42cfd25b02824d4ea4a54728a76f0258",
            "cfc63cd04cad4ae488f568db28433b5f",
            "2005c22d3b914843afbe60cf9ff5f516",
            "81fb850f99534f4192d2f5da05b8bb71",
            "9037f49096624c68918fedcfa02195a0",
            "a637b128f6114628a02cb3f09db39b07",
            "d5cf663eee124d46ba67ee2c4b7fdec3",
            "b0ccb22eefa0498199cb85270c7cb67b",
            "a5b70d352c5e48689459ee58fac27558",
            "e7c44c5fc1fe4737ac2fec84a7ac07f5",
            "92225f1eb9594642a9be771bcacd1ae1",
            "a73590f6a33f45f1baafe6e2611422be",
            "dfbc9031f9784e1e99eae563fd70b3fc",
            "a979906b0faf4e9fb95f8a2a730dcd71",
            "f2135e7031464a46b09bd40714fe60c6",
            "d635b06275fa491e8490627a9be60bf5",
            "bab1714fd69f4103abc3dad80e44c4a4",
            "1aafbc83798444c9a7896c7877e0cee2",
            "9830bb8e0c5e4514a8db9586e8fb29d9",
            "1f3c65359d20476f9f654a2dfa9d4f16",
            "833c402456be4440bdb3b6ff7832a016",
            "ff634fc9ef48439ea37bbd7378f38333",
            "6579f3e50ad54cf28e338be165b7d545",
            "e3be7e5d25fb4a74ae096fc1dcede1ff"
          ]
        },
        "outputId": "a0a7d72d-9fca-4308-89d3-9d912035beb1"
      },
      "execution_count": null,
      "outputs": [
        {
          "output_type": "display_data",
          "data": {
            "text/plain": [
              "Downloading (…)lve/main/config.json:   0%|          | 0.00/1.21k [00:00<?, ?B/s]"
            ],
            "application/vnd.jupyter.widget-view+json": {
              "version_major": 2,
              "version_minor": 0,
              "model_id": "c5d481968a4f4dcabc0ab784a8901fe5"
            }
          },
          "metadata": {}
        },
        {
          "output_type": "display_data",
          "data": {
            "text/plain": [
              "Downloading model.safetensors:   0%|          | 0.00/242M [00:00<?, ?B/s]"
            ],
            "application/vnd.jupyter.widget-view+json": {
              "version_major": 2,
              "version_minor": 0,
              "model_id": "fb098bb73d9c419588beedaba27243d0"
            }
          },
          "metadata": {}
        },
        {
          "output_type": "display_data",
          "data": {
            "text/plain": [
              "Downloading (…)neration_config.json:   0%|          | 0.00/147 [00:00<?, ?B/s]"
            ],
            "application/vnd.jupyter.widget-view+json": {
              "version_major": 2,
              "version_minor": 0,
              "model_id": "a534a1aed6ad4f06afdf443f1d9e6aeb"
            }
          },
          "metadata": {}
        },
        {
          "output_type": "display_data",
          "data": {
            "text/plain": [
              "Downloading (…)ve/main/spiece.model:   0%|          | 0.00/792k [00:00<?, ?B/s]"
            ],
            "application/vnd.jupyter.widget-view+json": {
              "version_major": 2,
              "version_minor": 0,
              "model_id": "2005c22d3b914843afbe60cf9ff5f516"
            }
          },
          "metadata": {}
        },
        {
          "output_type": "display_data",
          "data": {
            "text/plain": [
              "Downloading (…)okenizer_config.json:   0%|          | 0.00/2.32k [00:00<?, ?B/s]"
            ],
            "application/vnd.jupyter.widget-view+json": {
              "version_major": 2,
              "version_minor": 0,
              "model_id": "a979906b0faf4e9fb95f8a2a730dcd71"
            }
          },
          "metadata": {}
        }
      ]
    },
    {
      "cell_type": "code",
      "source": [
        "  test_prompt = \"Q:Where does the cute dog walk\"\n",
        "  label_prompt = \"A:In the green park\"\n",
        "  encoded = tokenizer(test_prompt, truncation=False, padding=False, return_tensors=\"pt\")\n",
        "  label = tokenizer(label_prompt, truncation=False, padding=False, return_tensors=\"pt\")\n",
        "  model.train()\n",
        "  for epoch in range(50):\n",
        "      outputs = model(input_ids=encoded.input_ids,attention_mask=encoded.attention_mask,\n",
        "                      labels=label.input_ids)\n",
        "      loss = outputs.loss\n",
        "      if epoch % 20 == 0:\n",
        "          print(f\"Epoch {epoch}  Loss {loss}\")\n",
        "      loss.backward()\n",
        "      optimizer.step()\n",
        "      optimizer.zero_grad()\n",
        "  print(f\"Epoch {epoch}  Loss {loss}\")\n",
        "\n"
      ],
      "metadata": {
        "colab": {
          "base_uri": "https://localhost:8080/"
        },
        "id": "0zKW2CnYKPnK",
        "outputId": "80d6bfaa-c0d6-4ab0-c83f-469e60315106"
      },
      "execution_count": null,
      "outputs": [
        {
          "output_type": "stream",
          "name": "stdout",
          "text": [
            "Epoch 0  Loss 4.423830986022949\n",
            "Epoch 20  Loss 1.126334309577942\n",
            "Epoch 40  Loss 0.24285714328289032\n",
            "Epoch 49  Loss 0.27664294838905334\n"
          ]
        }
      ]
    },
    {
      "cell_type": "code",
      "source": [
        "  #-------------------------------------------------------------\n",
        "  # After  training\n",
        "  model.eval()\n",
        "  test_prompt = \"Q:Where does the cute dog walk\"\n",
        "  encoded = tokenizer(test_prompt, truncation=False, padding=False, return_tensors=\"pt\")\n",
        "  test_output = model.generate(input_ids = encoded.input_ids,max_length=125)\n",
        "  test_answer = tokenizer.decode(test_output[0], skip_special_tokens=True)\n",
        "  print(f\"After Training:'{test_prompt}'-->'{test_answer}'\")"
      ],
      "metadata": {
        "colab": {
          "base_uri": "https://localhost:8080/"
        },
        "id": "pdAxVu0bZdoh",
        "outputId": "5fbc193f-fc18-4330-a81b-cfcf827a9571"
      },
      "execution_count": null,
      "outputs": [
        {
          "output_type": "stream",
          "name": "stdout",
          "text": [
            "After Training:'Q:Where does the cute dog walk'-->'A:In the green park'\n"
          ]
        }
      ]
    }
  ]
}